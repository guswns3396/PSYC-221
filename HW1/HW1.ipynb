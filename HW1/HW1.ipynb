{
 "cells": [
  {
   "cell_type": "markdown",
   "id": "0db7a003",
   "metadata": {},
   "source": [
    "# Assignment 1"
   ]
  },
  {
   "cell_type": "code",
   "execution_count": 1,
   "id": "e903ecc0",
   "metadata": {},
   "outputs": [],
   "source": [
    "import numpy as np\n",
    "import pandas as pd\n",
    "import seaborn as sns\n",
    "from scipy import stats\n",
    "from matplotlib import pyplot as plt"
   ]
  },
  {
   "cell_type": "markdown",
   "id": "5f61c275",
   "metadata": {},
   "source": [
    "# 1."
   ]
  },
  {
   "cell_type": "markdown",
   "id": "786f5ef9",
   "metadata": {},
   "source": [
    "## a. The average reaction time in the Stroop test of 12 participants in a neurocognitive study is {590, 748, 579, 544, 570, 598, 599, 673, 635, 714, 580, 565} in milliseconds. Is the reaction time of this cohort unusual compared to the standard reaction time of 570 milliseconds at a significance level of 0.05? What are the sample mean, standard deviation, t-statistic, degree of freedom, and p-value?"
   ]
  },
  {
   "cell_type": "markdown",
   "id": "f3496763",
   "metadata": {},
   "source": [
    "In this scenario, we want to perform a two-tailed one-sample t-test where the null hypothesis is $$H_0: \\mu = \\mu_0$$ and the alternative hypothesis is $$H_A: \\mu \\neq \\mu_0$$"
   ]
  },
  {
   "cell_type": "code",
   "execution_count": 2,
   "id": "77cd754a",
   "metadata": {},
   "outputs": [],
   "source": [
    "samples = np.array([590, 748, 579, 544, 570, 598, 599, 673, 635, 714, 580, 565])\n",
    "\n",
    "# number of samples\n",
    "N = len(samples)\n",
    "# alpha\n",
    "alpha = 0.05\n",
    "# standard reaction time\n",
    "mu0 = 570"
   ]
  },
  {
   "cell_type": "markdown",
   "id": "a04d09f7",
   "metadata": {},
   "source": [
    "For one sample t-test, $t$ is given by $$t = \\frac{\\bar{x} - \\mu_0}{s / \\sqrt{n}}$$\n",
    "where $\\bar{x}$ is the sample mean, $s$ is the sample standard deviation given by $s = \\sqrt{\\frac{\\sum{(x_i - \\bar{x})^2}}{n-1}}$, $\\mu_0$ is the specified value of the population mean under the null hypothesis, and $n$ is the sample size."
   ]
  },
  {
   "cell_type": "code",
   "execution_count": 3,
   "id": "276e3d1d",
   "metadata": {},
   "outputs": [
    {
     "name": "stdout",
     "output_type": "stream",
     "text": [
      "Sample mean:  616.25 \n",
      "Sample STD:  63.59834903517543\n"
     ]
    }
   ],
   "source": [
    "# sample mean\n",
    "x = samples.mean()\n",
    "# sample std\n",
    "s = samples.std(ddof=1)\n",
    "print('Sample mean: ', x, '\\nSample STD: ', s)"
   ]
  },
  {
   "cell_type": "code",
   "execution_count": 4,
   "id": "9e0bc0bf",
   "metadata": {},
   "outputs": [
    {
     "name": "stdout",
     "output_type": "stream",
     "text": [
      "T-statistic:  2.519164445786296\n"
     ]
    }
   ],
   "source": [
    "# t-statistic\n",
    "t = (x - mu0) / (s/np.sqrt(N))\n",
    "print('T-statistic: ', t)"
   ]
  },
  {
   "cell_type": "markdown",
   "id": "57da7191",
   "metadata": {},
   "source": [
    "In one sample t-test, the degrees of freedom are $n − 1$"
   ]
  },
  {
   "cell_type": "code",
   "execution_count": 5,
   "id": "0f8bf61f",
   "metadata": {},
   "outputs": [
    {
     "name": "stdout",
     "output_type": "stream",
     "text": [
      "DOF:  11\n"
     ]
    }
   ],
   "source": [
    "# degree of freedom\n",
    "df = N - 1\n",
    "print('DOF: ', df)"
   ]
  },
  {
   "cell_type": "code",
   "execution_count": 6,
   "id": "c88126ed",
   "metadata": {},
   "outputs": [
    {
     "data": {
      "text/plain": [
       "TtestResult(statistic=2.5191644457862963, pvalue=0.02851786955873765, df=11)"
      ]
     },
     "execution_count": 6,
     "metadata": {},
     "output_type": "execute_result"
    }
   ],
   "source": [
    "# one sample t test\n",
    "stats.ttest_1samp(samples, mu0, nan_policy='raise', alternative='two-sided')"
   ]
  },
  {
   "cell_type": "markdown",
   "id": "cbb4eddc",
   "metadata": {},
   "source": [
    "<strong>\n",
    "    The reaction time of the cohort is significant compared to the standard reaction time (p < 0.05).\n",
    "    <ul>\n",
    "        <li> sample mean: 616.25 </li>\n",
    "        <li> sample standard deviation: 63.589 </li>\n",
    "        <li> t-statistic: 2.519 </li>\n",
    "        <li> degree of freedom: 11 </li>\n",
    "        <li> p-value: 0.0285 </li>\n",
    "    </ul>\n",
    "</strong>"
   ]
  },
  {
   "cell_type": "markdown",
   "id": "3f2f3c8b",
   "metadata": {},
   "source": [
    "## b. The Stroop test was then separately taken for another cohort of 8 participants {570, 535, 606, 572, 568, 600, 554, 575}. Are the two cohorts significantly different in the reaction time based on two-tailed two-sample t-test? What about the significance under one-tailed test?"
   ]
  },
  {
   "cell_type": "markdown",
   "id": "44896699",
   "metadata": {},
   "source": [
    "Here, we want to perform a two-sample t-test where sample sizes are unequal and variances are assumed to be similar. This is given by $$t={\\frac {{\\bar {X}}_{1}-{\\bar {X}}_{2}}{s_{p}\\cdot {\\sqrt {{\\frac {1}{n_{1}}}+{\\frac {1}{n_{2}}}}}}}$$ where $${s_{p}={\\sqrt {\\frac {(n_{1}-1)s_{X_{1}}^{2}+(n_{2}-1)s_{X_{2}}^{2}}{n_{1}+n_{2}-2}}}}$$\n",
    "is the pooled standard deviation."
   ]
  },
  {
   "cell_type": "code",
   "execution_count": 7,
   "id": "25c23345",
   "metadata": {},
   "outputs": [],
   "source": [
    "samples2 = np.array([570, 535, 606, 572, 568, 600, 554, 575])\n",
    "\n",
    "# sample size of 2nd batch of samples\n",
    "N2 = len(samples2)"
   ]
  },
  {
   "cell_type": "code",
   "execution_count": 8,
   "id": "693bf19e",
   "metadata": {},
   "outputs": [
    {
     "name": "stdout",
     "output_type": "stream",
     "text": [
      "1.8532185387550502 51.721610570437576\n"
     ]
    }
   ],
   "source": [
    "# pooled standard deviation\n",
    "sp = np.sqrt(((N-1)*samples.var(ddof=1) + (N2-1)*samples2.var(ddof=1))/(N + N2 - 2))\n",
    "# t statistic\n",
    "t = (samples.mean() - samples2.mean()) / (sp * np.sqrt((1/N) + (1/N2)))\n",
    "print(t, sp)"
   ]
  },
  {
   "cell_type": "code",
   "execution_count": 9,
   "id": "02b107c6",
   "metadata": {},
   "outputs": [
    {
     "data": {
      "text/plain": [
       "Ttest_indResult(statistic=1.8532185387550504, pvalue=0.08031716997740455)"
      ]
     },
     "execution_count": 9,
     "metadata": {},
     "output_type": "execute_result"
    }
   ],
   "source": [
    "# two sample t test assuming similar variances (two tailed)\n",
    "stats.ttest_ind(samples, samples2, axis=0, equal_var=True, nan_policy='raise', alternative='two-sided')"
   ]
  },
  {
   "cell_type": "code",
   "execution_count": 10,
   "id": "10ad5196",
   "metadata": {},
   "outputs": [
    {
     "name": "stdout",
     "output_type": "stream",
     "text": [
      "616.25 572.5\n"
     ]
    }
   ],
   "source": [
    "# compare means of the 2 samples\n",
    "print(samples.mean(), samples2.mean())"
   ]
  },
  {
   "cell_type": "markdown",
   "id": "bb11cb3b",
   "metadata": {},
   "source": [
    "The null hypothesis is $H_0: \\mu_1 = \\mu_2$. Alternative hypothesis is $H_A: \\mu_1 > \\mu_2$."
   ]
  },
  {
   "cell_type": "code",
   "execution_count": 11,
   "id": "c4c7bd4f",
   "metadata": {},
   "outputs": [
    {
     "data": {
      "text/plain": [
       "Ttest_indResult(statistic=1.8532185387550504, pvalue=0.04015858498870228)"
      ]
     },
     "execution_count": 11,
     "metadata": {},
     "output_type": "execute_result"
    }
   ],
   "source": [
    "# two sample t test (one tailed)\n",
    "stats.ttest_ind(samples, samples2, axis=0, equal_var=True, nan_policy='raise', alternative='greater')"
   ]
  },
  {
   "cell_type": "markdown",
   "id": "7296ef7e",
   "metadata": {},
   "source": [
    "#### The two groups are not significantly different based on a two-tailed test but are significantly different based on a one-tailed test."
   ]
  },
  {
   "cell_type": "markdown",
   "id": "2f1d754f",
   "metadata": {},
   "source": [
    "# 2. A recently proposed machine learning model was applied to an MRI dataset to classify the binary diagnosis label of 100 subjects of age 40 years, resulting in 85 subjects correctly classified and 15 subjects wrongly classified. For the following three questions, what are the chi-squared statistic and p-value?"
   ]
  },
  {
   "cell_type": "code",
   "execution_count": 12,
   "id": "58c61cd5",
   "metadata": {},
   "outputs": [
    {
     "data": {
      "text/html": [
       "<div>\n",
       "<style scoped>\n",
       "    .dataframe tbody tr th:only-of-type {\n",
       "        vertical-align: middle;\n",
       "    }\n",
       "\n",
       "    .dataframe tbody tr th {\n",
       "        vertical-align: top;\n",
       "    }\n",
       "\n",
       "    .dataframe thead th {\n",
       "        text-align: right;\n",
       "    }\n",
       "</style>\n",
       "<table border=\"1\" class=\"dataframe\">\n",
       "  <thead>\n",
       "    <tr style=\"text-align: right;\">\n",
       "      <th></th>\n",
       "      <th>correct</th>\n",
       "      <th>incorrect</th>\n",
       "    </tr>\n",
       "  </thead>\n",
       "  <tbody>\n",
       "    <tr>\n",
       "      <th>40 yo</th>\n",
       "      <td>85</td>\n",
       "      <td>15</td>\n",
       "    </tr>\n",
       "  </tbody>\n",
       "</table>\n",
       "</div>"
      ],
      "text/plain": [
       "       correct  incorrect\n",
       "40 yo       85         15"
      ]
     },
     "execution_count": 12,
     "metadata": {},
     "output_type": "execute_result"
    }
   ],
   "source": [
    "# marginal frequency\n",
    "N = 100\n",
    "# contingency table\n",
    "df = pd.DataFrame([[85, 15]], columns=['correct', 'incorrect'], index=['40 yo'])\n",
    "df"
   ]
  },
  {
   "cell_type": "markdown",
   "id": "4ff1b7b8",
   "metadata": {},
   "source": [
    "## a. Is the proposed classifier significantly more accurate than random guessing?"
   ]
  },
  {
   "cell_type": "markdown",
   "id": "10bbe65f",
   "metadata": {},
   "source": [
    "Random guessing will result in uniform probability for each class $$p_i = 1/K$$ where $K$ is the number of classes. In our case $K=2$.\n",
    "\n",
    "We can get the expected value (frequencies) of random guessing: $$m_i = p_i \\times N$$ where $m_i$ is the expected value of class $k=i$ and $N$ is the marginal frequency."
   ]
  },
  {
   "cell_type": "code",
   "execution_count": 13,
   "id": "a0320b17",
   "metadata": {},
   "outputs": [
    {
     "data": {
      "text/html": [
       "<div>\n",
       "<style scoped>\n",
       "    .dataframe tbody tr th:only-of-type {\n",
       "        vertical-align: middle;\n",
       "    }\n",
       "\n",
       "    .dataframe tbody tr th {\n",
       "        vertical-align: top;\n",
       "    }\n",
       "\n",
       "    .dataframe thead th {\n",
       "        text-align: right;\n",
       "    }\n",
       "</style>\n",
       "<table border=\"1\" class=\"dataframe\">\n",
       "  <thead>\n",
       "    <tr style=\"text-align: right;\">\n",
       "      <th></th>\n",
       "      <th>correct</th>\n",
       "      <th>incorrect</th>\n",
       "    </tr>\n",
       "  </thead>\n",
       "  <tbody>\n",
       "    <tr>\n",
       "      <th>40 yo</th>\n",
       "      <td>50.0</td>\n",
       "      <td>50.0</td>\n",
       "    </tr>\n",
       "  </tbody>\n",
       "</table>\n",
       "</div>"
      ],
      "text/plain": [
       "       correct  incorrect\n",
       "40 yo     50.0       50.0"
      ]
     },
     "execution_count": 13,
     "metadata": {},
     "output_type": "execute_result"
    }
   ],
   "source": [
    "# number of classes\n",
    "K = 2\n",
    "# probabilities for each class\n",
    "probs = [1/K for p in ['correct', 'incorrect']]\n",
    "# expected frequency when guessing randomly\n",
    "df_expected = pd.DataFrame([[p*N for p in probs]], columns=['correct', 'incorrect'], index=['40 yo'])\n",
    "df_expected"
   ]
  },
  {
   "cell_type": "markdown",
   "id": "39d0508a",
   "metadata": {},
   "source": [
    "$X^2$ is given by $${X^{2}=\\sum _{i=1}^{k}{\\frac {(x_{i}-m_{i})^{2}}{m_{i}}}}$$"
   ]
  },
  {
   "cell_type": "code",
   "execution_count": 14,
   "id": "26a369ad",
   "metadata": {},
   "outputs": [
    {
     "name": "stdout",
     "output_type": "stream",
     "text": [
      "Chi-squared:  49.0\n"
     ]
    }
   ],
   "source": [
    "# calculate chi squared\n",
    "chisq = (np.square(df.loc['40 yo'] - df_expected.loc['40 yo'])/ df_expected.loc['40 yo']).sum()\n",
    "print('Chi-squared: ', chisq)"
   ]
  },
  {
   "cell_type": "code",
   "execution_count": 15,
   "id": "0757a029",
   "metadata": {},
   "outputs": [
    {
     "data": {
      "text/plain": [
       "Power_divergenceResult(statistic=49.0, pvalue=2.559625087771672e-12)"
      ]
     },
     "execution_count": 15,
     "metadata": {},
     "output_type": "execute_result"
    }
   ],
   "source": [
    "# chi squared test with DOF = K-1 = 1\n",
    "stats.chisquare(f_obs=df.loc['40 yo'], f_exp=df_expected.loc['40 yo'], ddof=0)"
   ]
  },
  {
   "cell_type": "markdown",
   "id": "26dc95e0",
   "metadata": {},
   "source": [
    "<strong>\n",
    "    The proposed classifier is significantly more accurate than random guessing.\n",
    "    <ul>\n",
    "        <li>Chi-squared: 49</li>\n",
    "        <li>p-value: 2.56e-12</li>\n",
    "    </ul>\n",
    "</strong>"
   ]
  },
  {
   "cell_type": "markdown",
   "id": "b28ec7ea",
   "metadata": {},
   "source": [
    "## b. Is the proposed classifier significantly more accurate than the expected accuracy of 75% from a baseline classifier at a significance level of 0.05?"
   ]
  },
  {
   "cell_type": "code",
   "execution_count": 16,
   "id": "23e556d9",
   "metadata": {},
   "outputs": [
    {
     "data": {
      "text/html": [
       "<div>\n",
       "<style scoped>\n",
       "    .dataframe tbody tr th:only-of-type {\n",
       "        vertical-align: middle;\n",
       "    }\n",
       "\n",
       "    .dataframe tbody tr th {\n",
       "        vertical-align: top;\n",
       "    }\n",
       "\n",
       "    .dataframe thead th {\n",
       "        text-align: right;\n",
       "    }\n",
       "</style>\n",
       "<table border=\"1\" class=\"dataframe\">\n",
       "  <thead>\n",
       "    <tr style=\"text-align: right;\">\n",
       "      <th></th>\n",
       "      <th>correct</th>\n",
       "      <th>incorrect</th>\n",
       "    </tr>\n",
       "  </thead>\n",
       "  <tbody>\n",
       "    <tr>\n",
       "      <th>40 yo</th>\n",
       "      <td>75.0</td>\n",
       "      <td>25.0</td>\n",
       "    </tr>\n",
       "  </tbody>\n",
       "</table>\n",
       "</div>"
      ],
      "text/plain": [
       "       correct  incorrect\n",
       "40 yo     75.0       25.0"
      ]
     },
     "execution_count": 16,
     "metadata": {},
     "output_type": "execute_result"
    }
   ],
   "source": [
    "# probabilities for each class\n",
    "probs = [0.75, 0.25]\n",
    "# expected frequency\n",
    "df_expected = pd.DataFrame([[p*N for p in probs]], columns=['correct', 'incorrect'], index=['40 yo'])\n",
    "df_expected"
   ]
  },
  {
   "cell_type": "code",
   "execution_count": 17,
   "id": "8de7739e",
   "metadata": {},
   "outputs": [
    {
     "name": "stdout",
     "output_type": "stream",
     "text": [
      "Chi-squared:  5.333333333333333\n"
     ]
    }
   ],
   "source": [
    "# calculate chi squared\n",
    "chisq = (np.square(df.loc['40 yo'] - df_expected.loc['40 yo'])/ df_expected.loc['40 yo']).sum()\n",
    "print('Chi-squared: ', chisq)"
   ]
  },
  {
   "cell_type": "code",
   "execution_count": 18,
   "id": "ec4267b2",
   "metadata": {},
   "outputs": [
    {
     "data": {
      "text/plain": [
       "Power_divergenceResult(statistic=5.333333333333333, pvalue=0.020921335337794035)"
      ]
     },
     "execution_count": 18,
     "metadata": {},
     "output_type": "execute_result"
    }
   ],
   "source": [
    "# chi squared test with DOF = K-1 = 1\n",
    "stats.chisquare(f_obs=df.loc['40 yo'], f_exp=df_expected.loc['40 yo'], ddof=0)"
   ]
  },
  {
   "cell_type": "markdown",
   "id": "459386a3",
   "metadata": {},
   "source": [
    "<strong>\n",
    "    The proposed classifier is significantly more accurate than expected accuracy of 75%.\n",
    "    <ul>\n",
    "        <li>Chi-squared: 5.33</li>\n",
    "        <li>p-value: 0.021</li>\n",
    "    </ul>\n",
    "</strong>"
   ]
  },
  {
   "cell_type": "markdown",
   "id": "0b97fa67",
   "metadata": {},
   "source": [
    "## c. Applying the proposed classifier to another 50 subjects of age 60 years resulted in 37 correct classifications and 13 wrong classifications. Does the classifier have significantly different predictive power between the two ages?"
   ]
  },
  {
   "cell_type": "code",
   "execution_count": 19,
   "id": "2d8c0e6f",
   "metadata": {},
   "outputs": [
    {
     "data": {
      "text/html": [
       "<div>\n",
       "<style scoped>\n",
       "    .dataframe tbody tr th:only-of-type {\n",
       "        vertical-align: middle;\n",
       "    }\n",
       "\n",
       "    .dataframe tbody tr th {\n",
       "        vertical-align: top;\n",
       "    }\n",
       "\n",
       "    .dataframe thead th {\n",
       "        text-align: right;\n",
       "    }\n",
       "</style>\n",
       "<table border=\"1\" class=\"dataframe\">\n",
       "  <thead>\n",
       "    <tr style=\"text-align: right;\">\n",
       "      <th></th>\n",
       "      <th>correct</th>\n",
       "      <th>incorrect</th>\n",
       "    </tr>\n",
       "  </thead>\n",
       "  <tbody>\n",
       "    <tr>\n",
       "      <th>40 yo</th>\n",
       "      <td>85</td>\n",
       "      <td>15</td>\n",
       "    </tr>\n",
       "    <tr>\n",
       "      <th>60 yo</th>\n",
       "      <td>37</td>\n",
       "      <td>13</td>\n",
       "    </tr>\n",
       "  </tbody>\n",
       "</table>\n",
       "</div>"
      ],
      "text/plain": [
       "       correct  incorrect\n",
       "40 yo       85         15\n",
       "60 yo       37         13"
      ]
     },
     "execution_count": 19,
     "metadata": {},
     "output_type": "execute_result"
    }
   ],
   "source": [
    "# contingency table\n",
    "df = pd.DataFrame([[85, 15], [37, 13]], columns=['correct', 'incorrect'], index=['40 yo', '60 yo'])\n",
    "df"
   ]
  },
  {
   "cell_type": "code",
   "execution_count": 20,
   "id": "e680455e",
   "metadata": {},
   "outputs": [
    {
     "data": {
      "text/html": [
       "<div>\n",
       "<style scoped>\n",
       "    .dataframe tbody tr th:only-of-type {\n",
       "        vertical-align: middle;\n",
       "    }\n",
       "\n",
       "    .dataframe tbody tr th {\n",
       "        vertical-align: top;\n",
       "    }\n",
       "\n",
       "    .dataframe thead th {\n",
       "        text-align: right;\n",
       "    }\n",
       "</style>\n",
       "<table border=\"1\" class=\"dataframe\">\n",
       "  <thead>\n",
       "    <tr style=\"text-align: right;\">\n",
       "      <th></th>\n",
       "      <th>correct</th>\n",
       "      <th>incorrect</th>\n",
       "    </tr>\n",
       "  </thead>\n",
       "  <tbody>\n",
       "    <tr>\n",
       "      <th>40 yo</th>\n",
       "      <td>81.333333</td>\n",
       "      <td>18.666667</td>\n",
       "    </tr>\n",
       "    <tr>\n",
       "      <th>60 yo</th>\n",
       "      <td>40.666667</td>\n",
       "      <td>9.333333</td>\n",
       "    </tr>\n",
       "  </tbody>\n",
       "</table>\n",
       "</div>"
      ],
      "text/plain": [
       "         correct  incorrect\n",
       "40 yo  81.333333  18.666667\n",
       "60 yo  40.666667   9.333333"
      ]
     },
     "execution_count": 20,
     "metadata": {},
     "output_type": "execute_result"
    }
   ],
   "source": [
    "# expected frequency\n",
    "df_expected = df.copy()\n",
    "vals = df.values\n",
    "tot = df.sum().sum()\n",
    "for i in range(len(vals[0,:])):\n",
    "    row_tot = vals[i,:].sum()\n",
    "    for j in range(len(vals[:,0])):\n",
    "        col_tot = vals[:,j].sum()\n",
    "        df_expected.iloc[i,j] = row_tot * col_tot / tot\n",
    "df_expected"
   ]
  },
  {
   "cell_type": "code",
   "execution_count": 21,
   "id": "091a96c7",
   "metadata": {},
   "outputs": [
    {
     "name": "stdout",
     "output_type": "stream",
     "text": [
      "Chi-squared:  2.656615925058548\n"
     ]
    }
   ],
   "source": [
    "# calculate chi squared\n",
    "chisq = np.array(np.square(df - df_expected)/ df_expected).sum(axis=None)\n",
    "print('Chi-squared: ', chisq)"
   ]
  },
  {
   "cell_type": "code",
   "execution_count": 22,
   "id": "06d4cdca",
   "metadata": {},
   "outputs": [
    {
     "data": {
      "text/plain": [
       "Chi2ContingencyResult(statistic=2.656615925058548, pvalue=0.10311991569550351, dof=1, expected_freq=array([[81.33333333, 18.66666667],\n",
       "       [40.66666667,  9.33333333]]))"
      ]
     },
     "execution_count": 22,
     "metadata": {},
     "output_type": "execute_result"
    }
   ],
   "source": [
    "# chi squared test with DOF = (R-1)(C-1) = 1\n",
    "stats.chi2_contingency(df, correction=False, lambda_=None)"
   ]
  },
  {
   "cell_type": "markdown",
   "id": "a3e12034",
   "metadata": {},
   "source": [
    "<strong>\n",
    "    The proposed classifier does not have significantly different predictive power for the two ages.\n",
    "    <ul>\n",
    "        <li>Chi-squared: 2.66</li>\n",
    "        <li>p-value: 0.1</li>\n",
    "    </ul>\n",
    "</strong>"
   ]
  },
  {
   "cell_type": "markdown",
   "id": "88048fa7",
   "metadata": {},
   "source": [
    "# 3. (Programming, data available at <a href=https://web.stanford.edu/class/psyc221/assets/materials/data_assignment_1.csv> here</a>) A new biomarker was extracted from 10 brain regions of 50 control participants and 50 patients. Given that the biomarker depends linearly on age and sex, please perform an analysis to test whether the disease group had significantly unusual values in the regional biomarkers compared to the control group and whether the disease effects differed between sexes (sex-disease interaction). Please also use appropriate plots to visualize the significant effects if there is any."
   ]
  },
  {
   "cell_type": "code",
   "execution_count": 23,
   "id": "18ebe0c5",
   "metadata": {},
   "outputs": [
    {
     "data": {
      "text/html": [
       "<div>\n",
       "<style scoped>\n",
       "    .dataframe tbody tr th:only-of-type {\n",
       "        vertical-align: middle;\n",
       "    }\n",
       "\n",
       "    .dataframe tbody tr th {\n",
       "        vertical-align: top;\n",
       "    }\n",
       "\n",
       "    .dataframe thead th {\n",
       "        text-align: right;\n",
       "    }\n",
       "</style>\n",
       "<table border=\"1\" class=\"dataframe\">\n",
       "  <thead>\n",
       "    <tr style=\"text-align: right;\">\n",
       "      <th></th>\n",
       "      <th>age</th>\n",
       "      <th>sex</th>\n",
       "      <th>diagnosis</th>\n",
       "      <th>Frontal_Sup</th>\n",
       "      <th>Frontal_Inf</th>\n",
       "      <th>Cingulum_Ant</th>\n",
       "      <th>Cingulum_Post</th>\n",
       "      <th>Parietal_Sup</th>\n",
       "      <th>Parietal_Inf</th>\n",
       "      <th>Occipital_Sup</th>\n",
       "      <th>Occipital_Inf</th>\n",
       "      <th>Temporal_Sup</th>\n",
       "      <th>Temporal_Inf</th>\n",
       "    </tr>\n",
       "  </thead>\n",
       "  <tbody>\n",
       "    <tr>\n",
       "      <th>0</th>\n",
       "      <td>43.368493</td>\n",
       "      <td>0</td>\n",
       "      <td>0</td>\n",
       "      <td>0.541704</td>\n",
       "      <td>0.553985</td>\n",
       "      <td>0.577727</td>\n",
       "      <td>0.502631</td>\n",
       "      <td>0.539654</td>\n",
       "      <td>0.562739</td>\n",
       "      <td>0.584094</td>\n",
       "      <td>0.656325</td>\n",
       "      <td>0.529551</td>\n",
       "      <td>0.521926</td>\n",
       "    </tr>\n",
       "    <tr>\n",
       "      <th>1</th>\n",
       "      <td>36.654435</td>\n",
       "      <td>0</td>\n",
       "      <td>0</td>\n",
       "      <td>0.665915</td>\n",
       "      <td>0.477778</td>\n",
       "      <td>0.525422</td>\n",
       "      <td>0.473192</td>\n",
       "      <td>0.589977</td>\n",
       "      <td>0.656130</td>\n",
       "      <td>0.677115</td>\n",
       "      <td>0.571440</td>\n",
       "      <td>0.430463</td>\n",
       "      <td>0.499023</td>\n",
       "    </tr>\n",
       "    <tr>\n",
       "      <th>2</th>\n",
       "      <td>37.998386</td>\n",
       "      <td>0</td>\n",
       "      <td>0</td>\n",
       "      <td>0.385500</td>\n",
       "      <td>0.535842</td>\n",
       "      <td>0.651637</td>\n",
       "      <td>0.556026</td>\n",
       "      <td>0.451074</td>\n",
       "      <td>0.602841</td>\n",
       "      <td>0.578349</td>\n",
       "      <td>0.626247</td>\n",
       "      <td>0.511696</td>\n",
       "      <td>0.531485</td>\n",
       "    </tr>\n",
       "    <tr>\n",
       "      <th>3</th>\n",
       "      <td>36.640988</td>\n",
       "      <td>0</td>\n",
       "      <td>0</td>\n",
       "      <td>0.601210</td>\n",
       "      <td>0.500756</td>\n",
       "      <td>0.614601</td>\n",
       "      <td>0.581634</td>\n",
       "      <td>0.489078</td>\n",
       "      <td>0.615674</td>\n",
       "      <td>0.579836</td>\n",
       "      <td>0.548231</td>\n",
       "      <td>0.499937</td>\n",
       "      <td>0.612477</td>\n",
       "    </tr>\n",
       "    <tr>\n",
       "      <th>4</th>\n",
       "      <td>42.878145</td>\n",
       "      <td>0</td>\n",
       "      <td>0</td>\n",
       "      <td>0.529871</td>\n",
       "      <td>0.521045</td>\n",
       "      <td>0.576609</td>\n",
       "      <td>0.557342</td>\n",
       "      <td>0.494459</td>\n",
       "      <td>0.577652</td>\n",
       "      <td>0.668027</td>\n",
       "      <td>0.520755</td>\n",
       "      <td>0.521910</td>\n",
       "      <td>0.503761</td>\n",
       "    </tr>\n",
       "    <tr>\n",
       "      <th>...</th>\n",
       "      <td>...</td>\n",
       "      <td>...</td>\n",
       "      <td>...</td>\n",
       "      <td>...</td>\n",
       "      <td>...</td>\n",
       "      <td>...</td>\n",
       "      <td>...</td>\n",
       "      <td>...</td>\n",
       "      <td>...</td>\n",
       "      <td>...</td>\n",
       "      <td>...</td>\n",
       "      <td>...</td>\n",
       "      <td>...</td>\n",
       "    </tr>\n",
       "    <tr>\n",
       "      <th>95</th>\n",
       "      <td>45.966536</td>\n",
       "      <td>1</td>\n",
       "      <td>1</td>\n",
       "      <td>0.555299</td>\n",
       "      <td>0.597638</td>\n",
       "      <td>0.553309</td>\n",
       "      <td>0.523025</td>\n",
       "      <td>0.525431</td>\n",
       "      <td>0.667517</td>\n",
       "      <td>0.502397</td>\n",
       "      <td>0.601756</td>\n",
       "      <td>0.494372</td>\n",
       "      <td>0.637729</td>\n",
       "    </tr>\n",
       "    <tr>\n",
       "      <th>96</th>\n",
       "      <td>48.160286</td>\n",
       "      <td>1</td>\n",
       "      <td>1</td>\n",
       "      <td>0.524961</td>\n",
       "      <td>0.631617</td>\n",
       "      <td>0.382947</td>\n",
       "      <td>0.410978</td>\n",
       "      <td>0.505315</td>\n",
       "      <td>0.611400</td>\n",
       "      <td>0.605452</td>\n",
       "      <td>0.625818</td>\n",
       "      <td>0.445138</td>\n",
       "      <td>0.534949</td>\n",
       "    </tr>\n",
       "    <tr>\n",
       "      <th>97</th>\n",
       "      <td>32.339052</td>\n",
       "      <td>1</td>\n",
       "      <td>1</td>\n",
       "      <td>0.490657</td>\n",
       "      <td>0.652892</td>\n",
       "      <td>0.654747</td>\n",
       "      <td>0.656929</td>\n",
       "      <td>0.521088</td>\n",
       "      <td>0.702478</td>\n",
       "      <td>0.640216</td>\n",
       "      <td>0.537376</td>\n",
       "      <td>0.642808</td>\n",
       "      <td>0.598981</td>\n",
       "    </tr>\n",
       "    <tr>\n",
       "      <th>98</th>\n",
       "      <td>33.315738</td>\n",
       "      <td>1</td>\n",
       "      <td>1</td>\n",
       "      <td>0.584763</td>\n",
       "      <td>0.602108</td>\n",
       "      <td>0.465685</td>\n",
       "      <td>0.602878</td>\n",
       "      <td>0.693304</td>\n",
       "      <td>0.707188</td>\n",
       "      <td>0.685981</td>\n",
       "      <td>0.683557</td>\n",
       "      <td>0.697648</td>\n",
       "      <td>0.688851</td>\n",
       "    </tr>\n",
       "    <tr>\n",
       "      <th>99</th>\n",
       "      <td>32.630768</td>\n",
       "      <td>1</td>\n",
       "      <td>1</td>\n",
       "      <td>0.498238</td>\n",
       "      <td>0.661749</td>\n",
       "      <td>0.460143</td>\n",
       "      <td>0.661333</td>\n",
       "      <td>0.694017</td>\n",
       "      <td>0.742571</td>\n",
       "      <td>0.596009</td>\n",
       "      <td>0.785511</td>\n",
       "      <td>0.575335</td>\n",
       "      <td>0.539668</td>\n",
       "    </tr>\n",
       "  </tbody>\n",
       "</table>\n",
       "<p>100 rows × 13 columns</p>\n",
       "</div>"
      ],
      "text/plain": [
       "          age  sex  diagnosis  Frontal_Sup  Frontal_Inf  Cingulum_Ant  \\\n",
       "0   43.368493    0          0     0.541704     0.553985      0.577727   \n",
       "1   36.654435    0          0     0.665915     0.477778      0.525422   \n",
       "2   37.998386    0          0     0.385500     0.535842      0.651637   \n",
       "3   36.640988    0          0     0.601210     0.500756      0.614601   \n",
       "4   42.878145    0          0     0.529871     0.521045      0.576609   \n",
       "..        ...  ...        ...          ...          ...           ...   \n",
       "95  45.966536    1          1     0.555299     0.597638      0.553309   \n",
       "96  48.160286    1          1     0.524961     0.631617      0.382947   \n",
       "97  32.339052    1          1     0.490657     0.652892      0.654747   \n",
       "98  33.315738    1          1     0.584763     0.602108      0.465685   \n",
       "99  32.630768    1          1     0.498238     0.661749      0.460143   \n",
       "\n",
       "    Cingulum_Post  Parietal_Sup  Parietal_Inf  Occipital_Sup  Occipital_Inf  \\\n",
       "0        0.502631      0.539654      0.562739       0.584094       0.656325   \n",
       "1        0.473192      0.589977      0.656130       0.677115       0.571440   \n",
       "2        0.556026      0.451074      0.602841       0.578349       0.626247   \n",
       "3        0.581634      0.489078      0.615674       0.579836       0.548231   \n",
       "4        0.557342      0.494459      0.577652       0.668027       0.520755   \n",
       "..            ...           ...           ...            ...            ...   \n",
       "95       0.523025      0.525431      0.667517       0.502397       0.601756   \n",
       "96       0.410978      0.505315      0.611400       0.605452       0.625818   \n",
       "97       0.656929      0.521088      0.702478       0.640216       0.537376   \n",
       "98       0.602878      0.693304      0.707188       0.685981       0.683557   \n",
       "99       0.661333      0.694017      0.742571       0.596009       0.785511   \n",
       "\n",
       "    Temporal_Sup  Temporal_Inf  \n",
       "0       0.529551      0.521926  \n",
       "1       0.430463      0.499023  \n",
       "2       0.511696      0.531485  \n",
       "3       0.499937      0.612477  \n",
       "4       0.521910      0.503761  \n",
       "..           ...           ...  \n",
       "95      0.494372      0.637729  \n",
       "96      0.445138      0.534949  \n",
       "97      0.642808      0.598981  \n",
       "98      0.697648      0.688851  \n",
       "99      0.575335      0.539668  \n",
       "\n",
       "[100 rows x 13 columns]"
      ]
     },
     "execution_count": 23,
     "metadata": {},
     "output_type": "execute_result"
    }
   ],
   "source": [
    "data = pd.read_csv('data_assignment_1.csv')\n",
    "data"
   ]
  },
  {
   "cell_type": "markdown",
   "id": "68767624",
   "metadata": {},
   "source": [
    "<hr>"
   ]
  },
  {
   "cell_type": "code",
   "execution_count": 24,
   "id": "1a885216",
   "metadata": {},
   "outputs": [],
   "source": [
    "import statsmodels.api as sm # Statistical models\n",
    "from patsy import dmatrices"
   ]
  },
  {
   "cell_type": "code",
   "execution_count": 25,
   "id": "d807d668",
   "metadata": {},
   "outputs": [
    {
     "data": {
      "text/html": [
       "<div>\n",
       "<style scoped>\n",
       "    .dataframe tbody tr th:only-of-type {\n",
       "        vertical-align: middle;\n",
       "    }\n",
       "\n",
       "    .dataframe tbody tr th {\n",
       "        vertical-align: top;\n",
       "    }\n",
       "\n",
       "    .dataframe thead th {\n",
       "        text-align: right;\n",
       "    }\n",
       "</style>\n",
       "<table border=\"1\" class=\"dataframe\">\n",
       "  <thead>\n",
       "    <tr style=\"text-align: right;\">\n",
       "      <th></th>\n",
       "      <th>age</th>\n",
       "      <th>sex</th>\n",
       "      <th>diagnosis</th>\n",
       "      <th>Frontal_Sup</th>\n",
       "      <th>Frontal_Inf</th>\n",
       "      <th>Cingulum_Ant</th>\n",
       "      <th>Cingulum_Post</th>\n",
       "      <th>Parietal_Sup</th>\n",
       "      <th>Parietal_Inf</th>\n",
       "      <th>Occipital_Sup</th>\n",
       "      <th>Occipital_Inf</th>\n",
       "      <th>Temporal_Sup</th>\n",
       "      <th>Temporal_Inf</th>\n",
       "    </tr>\n",
       "  </thead>\n",
       "  <tbody>\n",
       "    <tr>\n",
       "      <th>0</th>\n",
       "      <td>43.368493</td>\n",
       "      <td>0</td>\n",
       "      <td>0</td>\n",
       "      <td>0.541704</td>\n",
       "      <td>0.553985</td>\n",
       "      <td>0.577727</td>\n",
       "      <td>0.502631</td>\n",
       "      <td>0.539654</td>\n",
       "      <td>0.562739</td>\n",
       "      <td>0.584094</td>\n",
       "      <td>0.656325</td>\n",
       "      <td>0.529551</td>\n",
       "      <td>0.521926</td>\n",
       "    </tr>\n",
       "    <tr>\n",
       "      <th>1</th>\n",
       "      <td>36.654435</td>\n",
       "      <td>0</td>\n",
       "      <td>0</td>\n",
       "      <td>0.665915</td>\n",
       "      <td>0.477778</td>\n",
       "      <td>0.525422</td>\n",
       "      <td>0.473192</td>\n",
       "      <td>0.589977</td>\n",
       "      <td>0.656130</td>\n",
       "      <td>0.677115</td>\n",
       "      <td>0.571440</td>\n",
       "      <td>0.430463</td>\n",
       "      <td>0.499023</td>\n",
       "    </tr>\n",
       "    <tr>\n",
       "      <th>2</th>\n",
       "      <td>37.998386</td>\n",
       "      <td>0</td>\n",
       "      <td>0</td>\n",
       "      <td>0.385500</td>\n",
       "      <td>0.535842</td>\n",
       "      <td>0.651637</td>\n",
       "      <td>0.556026</td>\n",
       "      <td>0.451074</td>\n",
       "      <td>0.602841</td>\n",
       "      <td>0.578349</td>\n",
       "      <td>0.626247</td>\n",
       "      <td>0.511696</td>\n",
       "      <td>0.531485</td>\n",
       "    </tr>\n",
       "    <tr>\n",
       "      <th>3</th>\n",
       "      <td>36.640988</td>\n",
       "      <td>0</td>\n",
       "      <td>0</td>\n",
       "      <td>0.601210</td>\n",
       "      <td>0.500756</td>\n",
       "      <td>0.614601</td>\n",
       "      <td>0.581634</td>\n",
       "      <td>0.489078</td>\n",
       "      <td>0.615674</td>\n",
       "      <td>0.579836</td>\n",
       "      <td>0.548231</td>\n",
       "      <td>0.499937</td>\n",
       "      <td>0.612477</td>\n",
       "    </tr>\n",
       "    <tr>\n",
       "      <th>4</th>\n",
       "      <td>42.878145</td>\n",
       "      <td>0</td>\n",
       "      <td>0</td>\n",
       "      <td>0.529871</td>\n",
       "      <td>0.521045</td>\n",
       "      <td>0.576609</td>\n",
       "      <td>0.557342</td>\n",
       "      <td>0.494459</td>\n",
       "      <td>0.577652</td>\n",
       "      <td>0.668027</td>\n",
       "      <td>0.520755</td>\n",
       "      <td>0.521910</td>\n",
       "      <td>0.503761</td>\n",
       "    </tr>\n",
       "    <tr>\n",
       "      <th>...</th>\n",
       "      <td>...</td>\n",
       "      <td>...</td>\n",
       "      <td>...</td>\n",
       "      <td>...</td>\n",
       "      <td>...</td>\n",
       "      <td>...</td>\n",
       "      <td>...</td>\n",
       "      <td>...</td>\n",
       "      <td>...</td>\n",
       "      <td>...</td>\n",
       "      <td>...</td>\n",
       "      <td>...</td>\n",
       "      <td>...</td>\n",
       "    </tr>\n",
       "    <tr>\n",
       "      <th>95</th>\n",
       "      <td>45.966536</td>\n",
       "      <td>1</td>\n",
       "      <td>1</td>\n",
       "      <td>0.555299</td>\n",
       "      <td>0.597638</td>\n",
       "      <td>0.553309</td>\n",
       "      <td>0.523025</td>\n",
       "      <td>0.525431</td>\n",
       "      <td>0.667517</td>\n",
       "      <td>0.502397</td>\n",
       "      <td>0.601756</td>\n",
       "      <td>0.494372</td>\n",
       "      <td>0.637729</td>\n",
       "    </tr>\n",
       "    <tr>\n",
       "      <th>96</th>\n",
       "      <td>48.160286</td>\n",
       "      <td>1</td>\n",
       "      <td>1</td>\n",
       "      <td>0.524961</td>\n",
       "      <td>0.631617</td>\n",
       "      <td>0.382947</td>\n",
       "      <td>0.410978</td>\n",
       "      <td>0.505315</td>\n",
       "      <td>0.611400</td>\n",
       "      <td>0.605452</td>\n",
       "      <td>0.625818</td>\n",
       "      <td>0.445138</td>\n",
       "      <td>0.534949</td>\n",
       "    </tr>\n",
       "    <tr>\n",
       "      <th>97</th>\n",
       "      <td>32.339052</td>\n",
       "      <td>1</td>\n",
       "      <td>1</td>\n",
       "      <td>0.490657</td>\n",
       "      <td>0.652892</td>\n",
       "      <td>0.654747</td>\n",
       "      <td>0.656929</td>\n",
       "      <td>0.521088</td>\n",
       "      <td>0.702478</td>\n",
       "      <td>0.640216</td>\n",
       "      <td>0.537376</td>\n",
       "      <td>0.642808</td>\n",
       "      <td>0.598981</td>\n",
       "    </tr>\n",
       "    <tr>\n",
       "      <th>98</th>\n",
       "      <td>33.315738</td>\n",
       "      <td>1</td>\n",
       "      <td>1</td>\n",
       "      <td>0.584763</td>\n",
       "      <td>0.602108</td>\n",
       "      <td>0.465685</td>\n",
       "      <td>0.602878</td>\n",
       "      <td>0.693304</td>\n",
       "      <td>0.707188</td>\n",
       "      <td>0.685981</td>\n",
       "      <td>0.683557</td>\n",
       "      <td>0.697648</td>\n",
       "      <td>0.688851</td>\n",
       "    </tr>\n",
       "    <tr>\n",
       "      <th>99</th>\n",
       "      <td>32.630768</td>\n",
       "      <td>1</td>\n",
       "      <td>1</td>\n",
       "      <td>0.498238</td>\n",
       "      <td>0.661749</td>\n",
       "      <td>0.460143</td>\n",
       "      <td>0.661333</td>\n",
       "      <td>0.694017</td>\n",
       "      <td>0.742571</td>\n",
       "      <td>0.596009</td>\n",
       "      <td>0.785511</td>\n",
       "      <td>0.575335</td>\n",
       "      <td>0.539668</td>\n",
       "    </tr>\n",
       "  </tbody>\n",
       "</table>\n",
       "<p>100 rows × 13 columns</p>\n",
       "</div>"
      ],
      "text/plain": [
       "          age  sex  diagnosis  Frontal_Sup  Frontal_Inf  Cingulum_Ant  \\\n",
       "0   43.368493    0          0     0.541704     0.553985      0.577727   \n",
       "1   36.654435    0          0     0.665915     0.477778      0.525422   \n",
       "2   37.998386    0          0     0.385500     0.535842      0.651637   \n",
       "3   36.640988    0          0     0.601210     0.500756      0.614601   \n",
       "4   42.878145    0          0     0.529871     0.521045      0.576609   \n",
       "..        ...  ...        ...          ...          ...           ...   \n",
       "95  45.966536    1          1     0.555299     0.597638      0.553309   \n",
       "96  48.160286    1          1     0.524961     0.631617      0.382947   \n",
       "97  32.339052    1          1     0.490657     0.652892      0.654747   \n",
       "98  33.315738    1          1     0.584763     0.602108      0.465685   \n",
       "99  32.630768    1          1     0.498238     0.661749      0.460143   \n",
       "\n",
       "    Cingulum_Post  Parietal_Sup  Parietal_Inf  Occipital_Sup  Occipital_Inf  \\\n",
       "0        0.502631      0.539654      0.562739       0.584094       0.656325   \n",
       "1        0.473192      0.589977      0.656130       0.677115       0.571440   \n",
       "2        0.556026      0.451074      0.602841       0.578349       0.626247   \n",
       "3        0.581634      0.489078      0.615674       0.579836       0.548231   \n",
       "4        0.557342      0.494459      0.577652       0.668027       0.520755   \n",
       "..            ...           ...           ...            ...            ...   \n",
       "95       0.523025      0.525431      0.667517       0.502397       0.601756   \n",
       "96       0.410978      0.505315      0.611400       0.605452       0.625818   \n",
       "97       0.656929      0.521088      0.702478       0.640216       0.537376   \n",
       "98       0.602878      0.693304      0.707188       0.685981       0.683557   \n",
       "99       0.661333      0.694017      0.742571       0.596009       0.785511   \n",
       "\n",
       "    Temporal_Sup  Temporal_Inf  \n",
       "0       0.529551      0.521926  \n",
       "1       0.430463      0.499023  \n",
       "2       0.511696      0.531485  \n",
       "3       0.499937      0.612477  \n",
       "4       0.521910      0.503761  \n",
       "..           ...           ...  \n",
       "95      0.494372      0.637729  \n",
       "96      0.445138      0.534949  \n",
       "97      0.642808      0.598981  \n",
       "98      0.697648      0.688851  \n",
       "99      0.575335      0.539668  \n",
       "\n",
       "[100 rows x 13 columns]"
      ]
     },
     "execution_count": 25,
     "metadata": {},
     "output_type": "execute_result"
    }
   ],
   "source": [
    "data"
   ]
  },
  {
   "cell_type": "markdown",
   "id": "bbebf6d4",
   "metadata": {},
   "source": [
    "GLM\n",
    "$$Y = XB + \\epsilon$$\n",
    "where $Y \\in \\mathbb{R}^{m\\times n}$, $X \\in \\mathbb{R}^{m \\times x}$, $B \\in \\mathbb{R}^{x \\times n}$, $m$ is number of participants (i.e. $m=100$), $x$ is number of features, $n$ is number of brain regions (i.e $n=10$)"
   ]
  },
  {
   "cell_type": "markdown",
   "id": "22b79bde",
   "metadata": {},
   "source": [
    "It is expected that there are following interactions: sex and diagnosis. Interaction terms are thus added."
   ]
  },
  {
   "cell_type": "code",
   "execution_count": 26,
   "id": "be733fe9",
   "metadata": {
    "scrolled": true
   },
   "outputs": [
    {
     "name": "stdout",
     "output_type": "stream",
     "text": [
      "                 Generalized Linear Model Regression Results                  \n",
      "==============================================================================\n",
      "Dep. Variable:            Frontal_Sup   No. Observations:                  100\n",
      "Model:                            GLM   Df Residuals:                       95\n",
      "Model Family:                Gaussian   Df Model:                            4\n",
      "Link Function:               Identity   Scale:                       0.0058220\n",
      "Method:                          IRLS   Log-Likelihood:                 117.98\n",
      "Date:                Tue, 24 Oct 2023   Deviance:                      0.55309\n",
      "Time:                        03:00:14   Pearson chi2:                    0.553\n",
      "No. Iterations:                     3   Pseudo R-squ. (CS):             0.1764\n",
      "Covariance Type:            nonrobust                                         \n",
      "=================================================================================\n",
      "                    coef    std err          z      P>|z|      [0.025      0.975]\n",
      "---------------------------------------------------------------------------------\n",
      "Intercept         0.7449      0.060     12.422      0.000       0.627       0.862\n",
      "age              -0.0045      0.001     -3.044      0.002      -0.007      -0.002\n",
      "sex               0.0082      0.022      0.376      0.707      -0.035       0.051\n",
      "diagnosis        -0.0470      0.022     -2.167      0.030      -0.089      -0.004\n",
      "sex:diagnosis     0.0436      0.031      1.403      0.161      -0.017       0.105\n",
      "=================================================================================\n",
      "                 Generalized Linear Model Regression Results                  \n",
      "==============================================================================\n",
      "Dep. Variable:            Frontal_Inf   No. Observations:                  100\n",
      "Model:                            GLM   Df Residuals:                       95\n",
      "Model Family:                Gaussian   Df Model:                            4\n",
      "Link Function:               Identity   Scale:                       0.0043983\n",
      "Method:                          IRLS   Log-Likelihood:                 132.00\n",
      "Date:                Tue, 24 Oct 2023   Deviance:                      0.41784\n",
      "Time:                        03:00:14   Pearson chi2:                    0.418\n",
      "No. Iterations:                     3   Pseudo R-squ. (CS):             0.3717\n",
      "Covariance Type:            nonrobust                                         \n",
      "=================================================================================\n",
      "                    coef    std err          z      P>|z|      [0.025      0.975]\n",
      "---------------------------------------------------------------------------------\n",
      "Intercept         0.6912      0.052     13.260      0.000       0.589       0.793\n",
      "age              -0.0042      0.001     -3.298      0.001      -0.007      -0.002\n",
      "sex               0.0422      0.019      2.227      0.026       0.005       0.079\n",
      "diagnosis        -0.0336      0.019     -1.781      0.075      -0.071       0.003\n",
      "sex:diagnosis     0.0564      0.027      2.087      0.037       0.003       0.109\n",
      "=================================================================================\n",
      "                 Generalized Linear Model Regression Results                  \n",
      "==============================================================================\n",
      "Dep. Variable:           Cingulum_Ant   No. Observations:                  100\n",
      "Model:                            GLM   Df Residuals:                       95\n",
      "Model Family:                Gaussian   Df Model:                            4\n",
      "Link Function:               Identity   Scale:                       0.0047251\n",
      "Method:                          IRLS   Log-Likelihood:                 128.41\n",
      "Date:                Tue, 24 Oct 2023   Deviance:                      0.44888\n",
      "Time:                        03:00:14   Pearson chi2:                    0.449\n",
      "No. Iterations:                     3   Pseudo R-squ. (CS):             0.4341\n",
      "Covariance Type:            nonrobust                                         \n",
      "=================================================================================\n",
      "                    coef    std err          z      P>|z|      [0.025      0.975]\n",
      "---------------------------------------------------------------------------------\n",
      "Intercept         0.7624      0.054     14.112      0.000       0.656       0.868\n",
      "age              -0.0046      0.001     -3.525      0.000      -0.007      -0.002\n",
      "sex               0.0657      0.020      3.348      0.001       0.027       0.104\n",
      "diagnosis        -0.0664      0.020     -3.399      0.001      -0.105      -0.028\n",
      "sex:diagnosis    -0.0074      0.028     -0.264      0.792      -0.062       0.047\n",
      "=================================================================================\n",
      "                 Generalized Linear Model Regression Results                  \n",
      "==============================================================================\n",
      "Dep. Variable:          Cingulum_Post   No. Observations:                  100\n",
      "Model:                            GLM   Df Residuals:                       95\n",
      "Model Family:                Gaussian   Df Model:                            4\n",
      "Link Function:               Identity   Scale:                       0.0039557\n",
      "Method:                          IRLS   Log-Likelihood:                 137.30\n",
      "Date:                Tue, 24 Oct 2023   Deviance:                      0.37579\n",
      "Time:                        03:00:14   Pearson chi2:                    0.376\n",
      "No. Iterations:                     3   Pseudo R-squ. (CS):             0.7351\n",
      "Covariance Type:            nonrobust                                         \n",
      "=================================================================================\n",
      "                    coef    std err          z      P>|z|      [0.025      0.975]\n",
      "---------------------------------------------------------------------------------\n",
      "Intercept         0.8367      0.049     16.927      0.000       0.740       0.934\n",
      "age              -0.0080      0.001     -6.659      0.000      -0.010      -0.006\n",
      "sex               0.0530      0.018      2.949      0.003       0.018       0.088\n",
      "diagnosis        -0.0852      0.018     -4.767      0.000      -0.120      -0.050\n",
      "sex:diagnosis     0.0861      0.026      3.361      0.001       0.036       0.136\n",
      "=================================================================================\n",
      "                 Generalized Linear Model Regression Results                  \n",
      "==============================================================================\n",
      "Dep. Variable:           Parietal_Sup   No. Observations:                  100\n",
      "Model:                            GLM   Df Residuals:                       95\n",
      "Model Family:                Gaussian   Df Model:                            4\n",
      "Link Function:               Identity   Scale:                       0.0034592\n",
      "Method:                          IRLS   Log-Likelihood:                 144.01\n",
      "Date:                Tue, 24 Oct 2023   Deviance:                      0.32862\n",
      "Time:                        03:00:14   Pearson chi2:                    0.329\n",
      "No. Iterations:                     3   Pseudo R-squ. (CS):             0.3254\n",
      "Covariance Type:            nonrobust                                         \n",
      "=================================================================================\n",
      "                    coef    std err          z      P>|z|      [0.025      0.975]\n",
      "---------------------------------------------------------------------------------\n",
      "Intercept         0.7221      0.046     15.622      0.000       0.632       0.813\n",
      "age              -0.0047      0.001     -4.145      0.000      -0.007      -0.002\n",
      "sex               0.0533      0.017      3.170      0.002       0.020       0.086\n",
      "diagnosis         0.0159      0.017      0.952      0.341      -0.017       0.049\n",
      "sex:diagnosis    -0.0021      0.024     -0.087      0.931      -0.049       0.045\n",
      "=================================================================================\n",
      "                 Generalized Linear Model Regression Results                  \n",
      "==============================================================================\n",
      "Dep. Variable:           Parietal_Inf   No. Observations:                  100\n",
      "Model:                            GLM   Df Residuals:                       95\n",
      "Model Family:                Gaussian   Df Model:                            4\n",
      "Link Function:               Identity   Scale:                       0.0040872\n",
      "Method:                          IRLS   Log-Likelihood:                 135.67\n",
      "Date:                Tue, 24 Oct 2023   Deviance:                      0.38828\n",
      "Time:                        03:00:14   Pearson chi2:                    0.388\n",
      "No. Iterations:                     3   Pseudo R-squ. (CS):             0.2707\n",
      "Covariance Type:            nonrobust                                         \n",
      "=================================================================================\n",
      "                    coef    std err          z      P>|z|      [0.025      0.975]\n",
      "---------------------------------------------------------------------------------\n",
      "Intercept         0.7129      0.050     14.188      0.000       0.614       0.811\n",
      "age              -0.0033      0.001     -2.722      0.006      -0.006      -0.001\n",
      "sex               0.0765      0.018      4.191      0.000       0.041       0.112\n",
      "diagnosis         0.0009      0.018      0.047      0.962      -0.035       0.036\n",
      "sex:diagnosis    -0.0310      0.026     -1.189      0.235      -0.082       0.020\n",
      "=================================================================================\n",
      "                 Generalized Linear Model Regression Results                  \n",
      "==============================================================================\n",
      "Dep. Variable:          Occipital_Sup   No. Observations:                  100\n",
      "Model:                            GLM   Df Residuals:                       95\n",
      "Model Family:                Gaussian   Df Model:                            4\n",
      "Link Function:               Identity   Scale:                       0.0038365\n",
      "Method:                          IRLS   Log-Likelihood:                 138.83\n",
      "Date:                Tue, 24 Oct 2023   Deviance:                      0.36447\n",
      "Time:                        03:00:14   Pearson chi2:                    0.364\n",
      "No. Iterations:                     3   Pseudo R-squ. (CS):             0.3184\n",
      "Covariance Type:            nonrobust                                         \n",
      "=================================================================================\n",
      "                    coef    std err          z      P>|z|      [0.025      0.975]\n",
      "---------------------------------------------------------------------------------\n",
      "Intercept         0.7347      0.049     15.093      0.000       0.639       0.830\n",
      "age              -0.0035      0.001     -2.924      0.003      -0.006      -0.001\n",
      "sex               0.0271      0.018      1.530      0.126      -0.008       0.062\n",
      "diagnosis        -0.0585      0.018     -3.322      0.001      -0.093      -0.024\n",
      "sex:diagnosis     0.0471      0.025      1.868      0.062      -0.002       0.097\n",
      "=================================================================================\n",
      "                 Generalized Linear Model Regression Results                  \n",
      "==============================================================================\n",
      "Dep. Variable:          Occipital_Inf   No. Observations:                  100\n",
      "Model:                            GLM   Df Residuals:                       95\n",
      "Model Family:                Gaussian   Df Model:                            4\n",
      "Link Function:               Identity   Scale:                       0.0045174\n",
      "Method:                          IRLS   Log-Likelihood:                 130.66\n",
      "Date:                Tue, 24 Oct 2023   Deviance:                      0.42916\n",
      "Time:                        03:00:14   Pearson chi2:                    0.429\n",
      "No. Iterations:                     3   Pseudo R-squ. (CS):             0.4349\n",
      "Covariance Type:            nonrobust                                         \n",
      "=================================================================================\n",
      "                    coef    std err          z      P>|z|      [0.025      0.975]\n",
      "---------------------------------------------------------------------------------\n",
      "Intercept         0.6833      0.053     12.935      0.000       0.580       0.787\n",
      "age              -0.0035      0.001     -2.717      0.007      -0.006      -0.001\n",
      "sex               0.0648      0.019      3.375      0.001       0.027       0.102\n",
      "diagnosis        -0.0380      0.019     -1.989      0.047      -0.075      -0.001\n",
      "sex:diagnosis     0.0482      0.027      1.762      0.078      -0.005       0.102\n",
      "=================================================================================\n",
      "                 Generalized Linear Model Regression Results                  \n",
      "==============================================================================\n",
      "Dep. Variable:           Temporal_Sup   No. Observations:                  100\n",
      "Model:                            GLM   Df Residuals:                       95\n",
      "Model Family:                Gaussian   Df Model:                            4\n",
      "Link Function:               Identity   Scale:                       0.0042819\n",
      "Method:                          IRLS   Log-Likelihood:                 133.34\n",
      "Date:                Tue, 24 Oct 2023   Deviance:                      0.40678\n",
      "Time:                        03:00:14   Pearson chi2:                    0.407\n",
      "No. Iterations:                     3   Pseudo R-squ. (CS):             0.3700\n",
      "Covariance Type:            nonrobust                                         \n",
      "=================================================================================\n",
      "                    coef    std err          z      P>|z|      [0.025      0.975]\n",
      "---------------------------------------------------------------------------------\n",
      "Intercept         0.7538      0.051     14.657      0.000       0.653       0.855\n",
      "age              -0.0065      0.001     -5.198      0.000      -0.009      -0.004\n",
      "sex               0.0555      0.019      2.969      0.003       0.019       0.092\n",
      "diagnosis         0.0107      0.019      0.575      0.565      -0.026       0.047\n",
      "sex:diagnosis    -0.0014      0.027     -0.054      0.957      -0.054       0.051\n",
      "=================================================================================\n",
      "                 Generalized Linear Model Regression Results                  \n",
      "==============================================================================\n",
      "Dep. Variable:           Temporal_Inf   No. Observations:                  100\n",
      "Model:                            GLM   Df Residuals:                       95\n",
      "Model Family:                Gaussian   Df Model:                            4\n",
      "Link Function:               Identity   Scale:                       0.0047164\n",
      "Method:                          IRLS   Log-Likelihood:                 128.51\n",
      "Date:                Tue, 24 Oct 2023   Deviance:                      0.44806\n",
      "Time:                        03:00:14   Pearson chi2:                    0.448\n",
      "No. Iterations:                     3   Pseudo R-squ. (CS):             0.4216\n",
      "Covariance Type:            nonrobust                                         \n",
      "=================================================================================\n",
      "                    coef    std err          z      P>|z|      [0.025      0.975]\n",
      "---------------------------------------------------------------------------------\n",
      "Intercept         0.7681      0.054     14.230      0.000       0.662       0.874\n",
      "age              -0.0064      0.001     -4.891      0.000      -0.009      -0.004\n",
      "sex               0.0794      0.020      4.047      0.000       0.041       0.118\n",
      "diagnosis         0.0058      0.020      0.297      0.767      -0.032       0.044\n",
      "sex:diagnosis    -0.0070      0.028     -0.249      0.804      -0.062       0.048\n",
      "=================================================================================\n"
     ]
    }
   ],
   "source": [
    "B = pd.DataFrame([])\n",
    "pvals = pd.DataFrame([])\n",
    "for i in data.drop(columns=['age', 'sex', 'diagnosis']).columns:\n",
    "    y, X = dmatrices(\n",
    "        # interaction terms\n",
    "        f'{i} ~ age + sex + diagnosis + sex:diagnosis',\n",
    "        data=data,\n",
    "        return_type='dataframe'\n",
    "    )\n",
    "    # fit GLM\n",
    "    md = sm.GLM(y, X)\n",
    "    md = md.fit()\n",
    "    # get weights\n",
    "    B[i] = md.params\n",
    "    # get pvals\n",
    "    pvals[i] = md.pvalues\n",
    "    print(md.summary())"
   ]
  },
  {
   "cell_type": "code",
   "execution_count": 27,
   "id": "6f80a83b",
   "metadata": {},
   "outputs": [
    {
     "data": {
      "text/html": [
       "<div>\n",
       "<style scoped>\n",
       "    .dataframe tbody tr th:only-of-type {\n",
       "        vertical-align: middle;\n",
       "    }\n",
       "\n",
       "    .dataframe tbody tr th {\n",
       "        vertical-align: top;\n",
       "    }\n",
       "\n",
       "    .dataframe thead th {\n",
       "        text-align: right;\n",
       "    }\n",
       "</style>\n",
       "<table border=\"1\" class=\"dataframe\">\n",
       "  <thead>\n",
       "    <tr style=\"text-align: right;\">\n",
       "      <th></th>\n",
       "      <th>Frontal_Sup</th>\n",
       "      <th>Frontal_Inf</th>\n",
       "      <th>Cingulum_Ant</th>\n",
       "      <th>Cingulum_Post</th>\n",
       "      <th>Parietal_Sup</th>\n",
       "      <th>Parietal_Inf</th>\n",
       "      <th>Occipital_Sup</th>\n",
       "      <th>Occipital_Inf</th>\n",
       "      <th>Temporal_Sup</th>\n",
       "      <th>Temporal_Inf</th>\n",
       "    </tr>\n",
       "  </thead>\n",
       "  <tbody>\n",
       "    <tr>\n",
       "      <th>Intercept</th>\n",
       "      <td>0.744909</td>\n",
       "      <td>0.691166</td>\n",
       "      <td>0.762385</td>\n",
       "      <td>0.836728</td>\n",
       "      <td>0.722108</td>\n",
       "      <td>0.712912</td>\n",
       "      <td>0.734713</td>\n",
       "      <td>0.683300</td>\n",
       "      <td>0.753775</td>\n",
       "      <td>0.768054</td>\n",
       "    </tr>\n",
       "    <tr>\n",
       "      <th>age</th>\n",
       "      <td>-0.004452</td>\n",
       "      <td>-0.004193</td>\n",
       "      <td>-0.004645</td>\n",
       "      <td>-0.008029</td>\n",
       "      <td>-0.004674</td>\n",
       "      <td>-0.003336</td>\n",
       "      <td>-0.003473</td>\n",
       "      <td>-0.003501</td>\n",
       "      <td>-0.006521</td>\n",
       "      <td>-0.006440</td>\n",
       "    </tr>\n",
       "    <tr>\n",
       "      <th>sex</th>\n",
       "      <td>0.008196</td>\n",
       "      <td>0.042190</td>\n",
       "      <td>0.065746</td>\n",
       "      <td>0.052982</td>\n",
       "      <td>0.053261</td>\n",
       "      <td>0.076543</td>\n",
       "      <td>0.027081</td>\n",
       "      <td>0.064815</td>\n",
       "      <td>0.055502</td>\n",
       "      <td>0.079407</td>\n",
       "    </tr>\n",
       "    <tr>\n",
       "      <th>diagnosis</th>\n",
       "      <td>-0.046995</td>\n",
       "      <td>-0.033565</td>\n",
       "      <td>-0.066402</td>\n",
       "      <td>-0.085204</td>\n",
       "      <td>0.015909</td>\n",
       "      <td>0.000862</td>\n",
       "      <td>-0.058479</td>\n",
       "      <td>-0.037990</td>\n",
       "      <td>0.010688</td>\n",
       "      <td>0.005791</td>\n",
       "    </tr>\n",
       "    <tr>\n",
       "      <th>sex:diagnosis</th>\n",
       "      <td>0.043603</td>\n",
       "      <td>0.056382</td>\n",
       "      <td>-0.007382</td>\n",
       "      <td>0.086083</td>\n",
       "      <td>-0.002074</td>\n",
       "      <td>-0.030950</td>\n",
       "      <td>0.047120</td>\n",
       "      <td>0.048235</td>\n",
       "      <td>-0.001446</td>\n",
       "      <td>-0.006951</td>\n",
       "    </tr>\n",
       "  </tbody>\n",
       "</table>\n",
       "</div>"
      ],
      "text/plain": [
       "               Frontal_Sup  Frontal_Inf  Cingulum_Ant  Cingulum_Post  \\\n",
       "Intercept         0.744909     0.691166      0.762385       0.836728   \n",
       "age              -0.004452    -0.004193     -0.004645      -0.008029   \n",
       "sex               0.008196     0.042190      0.065746       0.052982   \n",
       "diagnosis        -0.046995    -0.033565     -0.066402      -0.085204   \n",
       "sex:diagnosis     0.043603     0.056382     -0.007382       0.086083   \n",
       "\n",
       "               Parietal_Sup  Parietal_Inf  Occipital_Sup  Occipital_Inf  \\\n",
       "Intercept          0.722108      0.712912       0.734713       0.683300   \n",
       "age               -0.004674     -0.003336      -0.003473      -0.003501   \n",
       "sex                0.053261      0.076543       0.027081       0.064815   \n",
       "diagnosis          0.015909      0.000862      -0.058479      -0.037990   \n",
       "sex:diagnosis     -0.002074     -0.030950       0.047120       0.048235   \n",
       "\n",
       "               Temporal_Sup  Temporal_Inf  \n",
       "Intercept          0.753775      0.768054  \n",
       "age               -0.006521     -0.006440  \n",
       "sex                0.055502      0.079407  \n",
       "diagnosis          0.010688      0.005791  \n",
       "sex:diagnosis     -0.001446     -0.006951  "
      ]
     },
     "execution_count": 27,
     "metadata": {},
     "output_type": "execute_result"
    }
   ],
   "source": [
    "B"
   ]
  },
  {
   "cell_type": "code",
   "execution_count": 28,
   "id": "b88ab9e9",
   "metadata": {},
   "outputs": [
    {
     "data": {
      "text/html": [
       "<div>\n",
       "<style scoped>\n",
       "    .dataframe tbody tr th:only-of-type {\n",
       "        vertical-align: middle;\n",
       "    }\n",
       "\n",
       "    .dataframe tbody tr th {\n",
       "        vertical-align: top;\n",
       "    }\n",
       "\n",
       "    .dataframe thead th {\n",
       "        text-align: right;\n",
       "    }\n",
       "</style>\n",
       "<table border=\"1\" class=\"dataframe\">\n",
       "  <thead>\n",
       "    <tr style=\"text-align: right;\">\n",
       "      <th></th>\n",
       "      <th>Frontal_Sup</th>\n",
       "      <th>Frontal_Inf</th>\n",
       "      <th>Cingulum_Ant</th>\n",
       "      <th>Cingulum_Post</th>\n",
       "      <th>Parietal_Sup</th>\n",
       "      <th>Parietal_Inf</th>\n",
       "      <th>Occipital_Sup</th>\n",
       "      <th>Occipital_Inf</th>\n",
       "      <th>Temporal_Sup</th>\n",
       "      <th>Temporal_Inf</th>\n",
       "    </tr>\n",
       "  </thead>\n",
       "  <tbody>\n",
       "    <tr>\n",
       "      <th>Intercept</th>\n",
       "      <td>1.992517e-35</td>\n",
       "      <td>3.934482e-40</td>\n",
       "      <td>3.211762e-45</td>\n",
       "      <td>2.836827e-64</td>\n",
       "      <td>5.176871e-55</td>\n",
       "      <td>1.079899e-45</td>\n",
       "      <td>1.813665e-51</td>\n",
       "      <td>2.842858e-38</td>\n",
       "      <td>1.222053e-48</td>\n",
       "      <td>5.983265e-46</td>\n",
       "    </tr>\n",
       "    <tr>\n",
       "      <th>age</th>\n",
       "      <td>2.337985e-03</td>\n",
       "      <td>9.751071e-04</td>\n",
       "      <td>4.238395e-04</td>\n",
       "      <td>2.759998e-11</td>\n",
       "      <td>3.390942e-05</td>\n",
       "      <td>6.492969e-03</td>\n",
       "      <td>3.450384e-03</td>\n",
       "      <td>6.595393e-03</td>\n",
       "      <td>2.018627e-07</td>\n",
       "      <td>1.001641e-06</td>\n",
       "    </tr>\n",
       "    <tr>\n",
       "      <th>sex</th>\n",
       "      <td>7.069391e-01</td>\n",
       "      <td>2.596235e-02</td>\n",
       "      <td>8.143245e-04</td>\n",
       "      <td>3.192142e-03</td>\n",
       "      <td>1.525511e-03</td>\n",
       "      <td>2.779913e-05</td>\n",
       "      <td>1.259159e-01</td>\n",
       "      <td>7.368939e-04</td>\n",
       "      <td>2.988724e-03</td>\n",
       "      <td>5.182082e-05</td>\n",
       "    </tr>\n",
       "    <tr>\n",
       "      <th>diagnosis</th>\n",
       "      <td>3.022509e-02</td>\n",
       "      <td>7.495385e-02</td>\n",
       "      <td>6.764950e-04</td>\n",
       "      <td>1.873344e-06</td>\n",
       "      <td>3.412243e-01</td>\n",
       "      <td>9.621529e-01</td>\n",
       "      <td>8.938022e-04</td>\n",
       "      <td>4.672566e-02</td>\n",
       "      <td>5.654825e-01</td>\n",
       "      <td>7.667039e-01</td>\n",
       "    </tr>\n",
       "    <tr>\n",
       "      <th>sex:diagnosis</th>\n",
       "      <td>1.605763e-01</td>\n",
       "      <td>3.684532e-02</td>\n",
       "      <td>7.920126e-01</td>\n",
       "      <td>7.775451e-04</td>\n",
       "      <td>9.309968e-01</td>\n",
       "      <td>2.345575e-01</td>\n",
       "      <td>6.177499e-02</td>\n",
       "      <td>7.804866e-02</td>\n",
       "      <td>9.567294e-01</td>\n",
       "      <td>8.037426e-01</td>\n",
       "    </tr>\n",
       "  </tbody>\n",
       "</table>\n",
       "</div>"
      ],
      "text/plain": [
       "                Frontal_Sup   Frontal_Inf  Cingulum_Ant  Cingulum_Post  \\\n",
       "Intercept      1.992517e-35  3.934482e-40  3.211762e-45   2.836827e-64   \n",
       "age            2.337985e-03  9.751071e-04  4.238395e-04   2.759998e-11   \n",
       "sex            7.069391e-01  2.596235e-02  8.143245e-04   3.192142e-03   \n",
       "diagnosis      3.022509e-02  7.495385e-02  6.764950e-04   1.873344e-06   \n",
       "sex:diagnosis  1.605763e-01  3.684532e-02  7.920126e-01   7.775451e-04   \n",
       "\n",
       "               Parietal_Sup  Parietal_Inf  Occipital_Sup  Occipital_Inf  \\\n",
       "Intercept      5.176871e-55  1.079899e-45   1.813665e-51   2.842858e-38   \n",
       "age            3.390942e-05  6.492969e-03   3.450384e-03   6.595393e-03   \n",
       "sex            1.525511e-03  2.779913e-05   1.259159e-01   7.368939e-04   \n",
       "diagnosis      3.412243e-01  9.621529e-01   8.938022e-04   4.672566e-02   \n",
       "sex:diagnosis  9.309968e-01  2.345575e-01   6.177499e-02   7.804866e-02   \n",
       "\n",
       "               Temporal_Sup  Temporal_Inf  \n",
       "Intercept      1.222053e-48  5.983265e-46  \n",
       "age            2.018627e-07  1.001641e-06  \n",
       "sex            2.988724e-03  5.182082e-05  \n",
       "diagnosis      5.654825e-01  7.667039e-01  \n",
       "sex:diagnosis  9.567294e-01  8.037426e-01  "
      ]
     },
     "execution_count": 28,
     "metadata": {},
     "output_type": "execute_result"
    }
   ],
   "source": [
    "pvals"
   ]
  },
  {
   "cell_type": "markdown",
   "id": "331614b4",
   "metadata": {},
   "source": [
    "Before making conclusions for whether diagnosis results in significant difference in biomarkers, we need to correct for multiple testing using the Benjamini-Hochberg procedure. Here, we set the false discovery rate to 0.05."
   ]
  },
  {
   "cell_type": "code",
   "execution_count": 29,
   "id": "9cc9b149",
   "metadata": {},
   "outputs": [],
   "source": [
    "FDR = 0.05"
   ]
  },
  {
   "cell_type": "code",
   "execution_count": 30,
   "id": "441b6583",
   "metadata": {},
   "outputs": [
    {
     "data": {
      "text/html": [
       "<div>\n",
       "<style scoped>\n",
       "    .dataframe tbody tr th:only-of-type {\n",
       "        vertical-align: middle;\n",
       "    }\n",
       "\n",
       "    .dataframe tbody tr th {\n",
       "        vertical-align: top;\n",
       "    }\n",
       "\n",
       "    .dataframe thead th {\n",
       "        text-align: right;\n",
       "    }\n",
       "</style>\n",
       "<table border=\"1\" class=\"dataframe\">\n",
       "  <thead>\n",
       "    <tr style=\"text-align: right;\">\n",
       "      <th></th>\n",
       "      <th>pvals</th>\n",
       "    </tr>\n",
       "  </thead>\n",
       "  <tbody>\n",
       "    <tr>\n",
       "      <th>Frontal_Sup</th>\n",
       "      <td>0.030225</td>\n",
       "    </tr>\n",
       "    <tr>\n",
       "      <th>Frontal_Inf</th>\n",
       "      <td>0.074954</td>\n",
       "    </tr>\n",
       "    <tr>\n",
       "      <th>Cingulum_Ant</th>\n",
       "      <td>0.000676</td>\n",
       "    </tr>\n",
       "    <tr>\n",
       "      <th>Cingulum_Post</th>\n",
       "      <td>0.000002</td>\n",
       "    </tr>\n",
       "    <tr>\n",
       "      <th>Parietal_Sup</th>\n",
       "      <td>0.341224</td>\n",
       "    </tr>\n",
       "    <tr>\n",
       "      <th>Parietal_Inf</th>\n",
       "      <td>0.962153</td>\n",
       "    </tr>\n",
       "    <tr>\n",
       "      <th>Occipital_Sup</th>\n",
       "      <td>0.000894</td>\n",
       "    </tr>\n",
       "    <tr>\n",
       "      <th>Occipital_Inf</th>\n",
       "      <td>0.046726</td>\n",
       "    </tr>\n",
       "    <tr>\n",
       "      <th>Temporal_Sup</th>\n",
       "      <td>0.565483</td>\n",
       "    </tr>\n",
       "    <tr>\n",
       "      <th>Temporal_Inf</th>\n",
       "      <td>0.766704</td>\n",
       "    </tr>\n",
       "  </tbody>\n",
       "</table>\n",
       "</div>"
      ],
      "text/plain": [
       "                  pvals\n",
       "Frontal_Sup    0.030225\n",
       "Frontal_Inf    0.074954\n",
       "Cingulum_Ant   0.000676\n",
       "Cingulum_Post  0.000002\n",
       "Parietal_Sup   0.341224\n",
       "Parietal_Inf   0.962153\n",
       "Occipital_Sup  0.000894\n",
       "Occipital_Inf  0.046726\n",
       "Temporal_Sup   0.565483\n",
       "Temporal_Inf   0.766704"
      ]
     },
     "execution_count": 30,
     "metadata": {},
     "output_type": "execute_result"
    }
   ],
   "source": [
    "df_bh = pvals.loc['diagnosis'].rename('pvals').to_frame()\n",
    "df_bh"
   ]
  },
  {
   "cell_type": "code",
   "execution_count": 31,
   "id": "15d04489",
   "metadata": {},
   "outputs": [
    {
     "data": {
      "text/html": [
       "<div>\n",
       "<style scoped>\n",
       "    .dataframe tbody tr th:only-of-type {\n",
       "        vertical-align: middle;\n",
       "    }\n",
       "\n",
       "    .dataframe tbody tr th {\n",
       "        vertical-align: top;\n",
       "    }\n",
       "\n",
       "    .dataframe thead th {\n",
       "        text-align: right;\n",
       "    }\n",
       "</style>\n",
       "<table border=\"1\" class=\"dataframe\">\n",
       "  <thead>\n",
       "    <tr style=\"text-align: right;\">\n",
       "      <th></th>\n",
       "      <th>pvals</th>\n",
       "      <th>rank</th>\n",
       "      <th>crit</th>\n",
       "    </tr>\n",
       "  </thead>\n",
       "  <tbody>\n",
       "    <tr>\n",
       "      <th>Cingulum_Post</th>\n",
       "      <td>0.000002</td>\n",
       "      <td>1.0</td>\n",
       "      <td>0.005</td>\n",
       "    </tr>\n",
       "    <tr>\n",
       "      <th>Cingulum_Ant</th>\n",
       "      <td>0.000676</td>\n",
       "      <td>2.0</td>\n",
       "      <td>0.010</td>\n",
       "    </tr>\n",
       "    <tr>\n",
       "      <th>Occipital_Sup</th>\n",
       "      <td>0.000894</td>\n",
       "      <td>3.0</td>\n",
       "      <td>0.015</td>\n",
       "    </tr>\n",
       "    <tr>\n",
       "      <th>Frontal_Sup</th>\n",
       "      <td>0.030225</td>\n",
       "      <td>4.0</td>\n",
       "      <td>0.020</td>\n",
       "    </tr>\n",
       "    <tr>\n",
       "      <th>Occipital_Inf</th>\n",
       "      <td>0.046726</td>\n",
       "      <td>5.0</td>\n",
       "      <td>0.025</td>\n",
       "    </tr>\n",
       "    <tr>\n",
       "      <th>Frontal_Inf</th>\n",
       "      <td>0.074954</td>\n",
       "      <td>6.0</td>\n",
       "      <td>0.030</td>\n",
       "    </tr>\n",
       "    <tr>\n",
       "      <th>Parietal_Sup</th>\n",
       "      <td>0.341224</td>\n",
       "      <td>7.0</td>\n",
       "      <td>0.035</td>\n",
       "    </tr>\n",
       "    <tr>\n",
       "      <th>Temporal_Sup</th>\n",
       "      <td>0.565483</td>\n",
       "      <td>8.0</td>\n",
       "      <td>0.040</td>\n",
       "    </tr>\n",
       "    <tr>\n",
       "      <th>Temporal_Inf</th>\n",
       "      <td>0.766704</td>\n",
       "      <td>9.0</td>\n",
       "      <td>0.045</td>\n",
       "    </tr>\n",
       "    <tr>\n",
       "      <th>Parietal_Inf</th>\n",
       "      <td>0.962153</td>\n",
       "      <td>10.0</td>\n",
       "      <td>0.050</td>\n",
       "    </tr>\n",
       "  </tbody>\n",
       "</table>\n",
       "</div>"
      ],
      "text/plain": [
       "                  pvals  rank   crit\n",
       "Cingulum_Post  0.000002   1.0  0.005\n",
       "Cingulum_Ant   0.000676   2.0  0.010\n",
       "Occipital_Sup  0.000894   3.0  0.015\n",
       "Frontal_Sup    0.030225   4.0  0.020\n",
       "Occipital_Inf  0.046726   5.0  0.025\n",
       "Frontal_Inf    0.074954   6.0  0.030\n",
       "Parietal_Sup   0.341224   7.0  0.035\n",
       "Temporal_Sup   0.565483   8.0  0.040\n",
       "Temporal_Inf   0.766704   9.0  0.045\n",
       "Parietal_Inf   0.962153  10.0  0.050"
      ]
     },
     "execution_count": 31,
     "metadata": {},
     "output_type": "execute_result"
    }
   ],
   "source": [
    "# sort by pval\n",
    "df_bh = df_bh.sort_values('pvals')\n",
    "# rank\n",
    "df_bh['rank'] = df_bh.rank()\n",
    "# get BH critical value\n",
    "df_bh['crit'] = df_bh.apply(lambda x: (x['rank']/len(df_bh))*FDR, axis=1)\n",
    "\n",
    "df_bh"
   ]
  },
  {
   "cell_type": "code",
   "execution_count": 32,
   "id": "d03cefb3",
   "metadata": {},
   "outputs": [
    {
     "data": {
      "text/html": [
       "<div>\n",
       "<style scoped>\n",
       "    .dataframe tbody tr th:only-of-type {\n",
       "        vertical-align: middle;\n",
       "    }\n",
       "\n",
       "    .dataframe tbody tr th {\n",
       "        vertical-align: top;\n",
       "    }\n",
       "\n",
       "    .dataframe thead th {\n",
       "        text-align: right;\n",
       "    }\n",
       "</style>\n",
       "<table border=\"1\" class=\"dataframe\">\n",
       "  <thead>\n",
       "    <tr style=\"text-align: right;\">\n",
       "      <th></th>\n",
       "      <th>pvals</th>\n",
       "      <th>rank</th>\n",
       "      <th>crit</th>\n",
       "    </tr>\n",
       "  </thead>\n",
       "  <tbody>\n",
       "    <tr>\n",
       "      <th>Cingulum_Post</th>\n",
       "      <td>0.000002</td>\n",
       "      <td>1.0</td>\n",
       "      <td>0.005</td>\n",
       "    </tr>\n",
       "    <tr>\n",
       "      <th>Cingulum_Ant</th>\n",
       "      <td>0.000676</td>\n",
       "      <td>2.0</td>\n",
       "      <td>0.010</td>\n",
       "    </tr>\n",
       "    <tr>\n",
       "      <th>Occipital_Sup</th>\n",
       "      <td>0.000894</td>\n",
       "      <td>3.0</td>\n",
       "      <td>0.015</td>\n",
       "    </tr>\n",
       "  </tbody>\n",
       "</table>\n",
       "</div>"
      ],
      "text/plain": [
       "                  pvals  rank   crit\n",
       "Cingulum_Post  0.000002   1.0  0.005\n",
       "Cingulum_Ant   0.000676   2.0  0.010\n",
       "Occipital_Sup  0.000894   3.0  0.015"
      ]
     },
     "execution_count": 32,
     "metadata": {},
     "output_type": "execute_result"
    }
   ],
   "source": [
    "# get highest rank where pval < crit\n",
    "rank_max = df_bh[df_bh['pvals'] < df_bh['crit']]['rank'].max()\n",
    "# all significant pvals\n",
    "df_bh[df_bh['rank'] <= rank_max]"
   ]
  },
  {
   "cell_type": "markdown",
   "id": "7399e0fa",
   "metadata": {},
   "source": [
    "**We can see that the following regions are significantly affected by the disease: Cingulum_Post, Cingulum_Ant, Occipital_Sup**"
   ]
  },
  {
   "cell_type": "markdown",
   "id": "f1e0cfaa",
   "metadata": {},
   "source": [
    "We can visualize the differences."
   ]
  },
  {
   "cell_type": "code",
   "execution_count": 33,
   "id": "9db67300",
   "metadata": {
    "scrolled": false
   },
   "outputs": [
    {
     "data": {
      "image/png": "[encoded data removed]",
      "text/plain": [
       "<Figure size 640x480 with 1 Axes>"
      ]
     },
     "metadata": {},
     "output_type": "display_data"
    },
    {
     "data": {
      "image/png": "[encoded data removed]",
      "text/plain": [
       "<Figure size 640x480 with 1 Axes>"
      ]
     },
     "metadata": {},
     "output_type": "display_data"
    },
    {
     "data": {
      "image/png": "[encoded data removed]",
      "text/plain": [
       "<Figure size 640x480 with 1 Axes>"
      ]
     },
     "metadata": {},
     "output_type": "display_data"
    },
    {
     "data": {
      "image/png": "[encoded data removed]",
      "text/plain": [
       "<Figure size 640x480 with 1 Axes>"
      ]
     },
     "metadata": {},
     "output_type": "display_data"
    },
    {
     "data": {
      "image/png": "[encoded data removed]",
      "text/plain": [
       "<Figure size 640x480 with 1 Axes>"
      ]
     },
     "metadata": {},
     "output_type": "display_data"
    },
    {
     "data": {
      "image/png": "[encoded data removed]",
      "text/plain": [
       "<Figure size 640x480 with 1 Axes>"
      ]
     },
     "metadata": {},
     "output_type": "display_data"
    },
    {
     "data": {
      "image/png": "[encoded data removed]",
      "text/plain": [
       "<Figure size 640x480 with 1 Axes>"
      ]
     },
     "metadata": {},
     "output_type": "display_data"
    },
    {
     "data": {
      "image/png": "[encoded data removed]",
      "text/plain": [
       "<Figure size 640x480 with 1 Axes>"
      ]
     },
     "metadata": {},
     "output_type": "display_data"
    },
    {
     "data": {
      "image/png": "[encoded data removed]",
      "text/plain": [
       "<Figure size 640x480 with 1 Axes>"
      ]
     },
     "metadata": {},
     "output_type": "display_data"
    },
    {
     "data": {
      "image/png": "[encoded data removed]",
      "text/plain": [
       "<Figure size 640x480 with 1 Axes>"
      ]
     },
     "metadata": {},
     "output_type": "display_data"
    }
   ],
   "source": [
    "for i in data.drop(columns=['age', 'sex', 'diagnosis']).columns:\n",
    "    y, X = dmatrices(\n",
    "        # interaction terms\n",
    "        f'{i} ~ age + sex + diagnosis + sex:diagnosis',\n",
    "        data=data,\n",
    "        return_type='dataframe'\n",
    "    )\n",
    "    # remove other effects\n",
    "    y_hat = y[i] - np.dot(X[X.columns[X.columns != 'diagnosis']], B.loc[B.index != 'diagnosis', i])\n",
    "    df = pd.concat([X['diagnosis'], y_hat], axis=1)\n",
    "    # visualize\n",
    "    sns.boxplot(data=df, x='diagnosis', y=i, notch=True)\n",
    "    plt.show()"
   ]
  },
  {
   "cell_type": "markdown",
   "id": "1d9e272d",
   "metadata": {},
   "source": [
    "We can also explore the interaction effect between sex and diagnosis."
   ]
  },
  {
   "cell_type": "code",
   "execution_count": 34,
   "id": "740f3b27",
   "metadata": {},
   "outputs": [
    {
     "data": {
      "text/html": [
       "<div>\n",
       "<style scoped>\n",
       "    .dataframe tbody tr th:only-of-type {\n",
       "        vertical-align: middle;\n",
       "    }\n",
       "\n",
       "    .dataframe tbody tr th {\n",
       "        vertical-align: top;\n",
       "    }\n",
       "\n",
       "    .dataframe thead th {\n",
       "        text-align: right;\n",
       "    }\n",
       "</style>\n",
       "<table border=\"1\" class=\"dataframe\">\n",
       "  <thead>\n",
       "    <tr style=\"text-align: right;\">\n",
       "      <th></th>\n",
       "      <th>pvals</th>\n",
       "    </tr>\n",
       "  </thead>\n",
       "  <tbody>\n",
       "    <tr>\n",
       "      <th>Frontal_Sup</th>\n",
       "      <td>0.160576</td>\n",
       "    </tr>\n",
       "    <tr>\n",
       "      <th>Frontal_Inf</th>\n",
       "      <td>0.036845</td>\n",
       "    </tr>\n",
       "    <tr>\n",
       "      <th>Cingulum_Ant</th>\n",
       "      <td>0.792013</td>\n",
       "    </tr>\n",
       "    <tr>\n",
       "      <th>Cingulum_Post</th>\n",
       "      <td>0.000778</td>\n",
       "    </tr>\n",
       "    <tr>\n",
       "      <th>Parietal_Sup</th>\n",
       "      <td>0.930997</td>\n",
       "    </tr>\n",
       "    <tr>\n",
       "      <th>Parietal_Inf</th>\n",
       "      <td>0.234558</td>\n",
       "    </tr>\n",
       "    <tr>\n",
       "      <th>Occipital_Sup</th>\n",
       "      <td>0.061775</td>\n",
       "    </tr>\n",
       "    <tr>\n",
       "      <th>Occipital_Inf</th>\n",
       "      <td>0.078049</td>\n",
       "    </tr>\n",
       "    <tr>\n",
       "      <th>Temporal_Sup</th>\n",
       "      <td>0.956729</td>\n",
       "    </tr>\n",
       "    <tr>\n",
       "      <th>Temporal_Inf</th>\n",
       "      <td>0.803743</td>\n",
       "    </tr>\n",
       "  </tbody>\n",
       "</table>\n",
       "</div>"
      ],
      "text/plain": [
       "                  pvals\n",
       "Frontal_Sup    0.160576\n",
       "Frontal_Inf    0.036845\n",
       "Cingulum_Ant   0.792013\n",
       "Cingulum_Post  0.000778\n",
       "Parietal_Sup   0.930997\n",
       "Parietal_Inf   0.234558\n",
       "Occipital_Sup  0.061775\n",
       "Occipital_Inf  0.078049\n",
       "Temporal_Sup   0.956729\n",
       "Temporal_Inf   0.803743"
      ]
     },
     "execution_count": 34,
     "metadata": {},
     "output_type": "execute_result"
    }
   ],
   "source": [
    "df_bh = pvals.loc['sex:diagnosis'].rename('pvals').to_frame()\n",
    "df_bh"
   ]
  },
  {
   "cell_type": "code",
   "execution_count": 35,
   "id": "5a357ef3",
   "metadata": {},
   "outputs": [
    {
     "data": {
      "text/html": [
       "<div>\n",
       "<style scoped>\n",
       "    .dataframe tbody tr th:only-of-type {\n",
       "        vertical-align: middle;\n",
       "    }\n",
       "\n",
       "    .dataframe tbody tr th {\n",
       "        vertical-align: top;\n",
       "    }\n",
       "\n",
       "    .dataframe thead th {\n",
       "        text-align: right;\n",
       "    }\n",
       "</style>\n",
       "<table border=\"1\" class=\"dataframe\">\n",
       "  <thead>\n",
       "    <tr style=\"text-align: right;\">\n",
       "      <th></th>\n",
       "      <th>pvals</th>\n",
       "      <th>rank</th>\n",
       "      <th>crit</th>\n",
       "    </tr>\n",
       "  </thead>\n",
       "  <tbody>\n",
       "    <tr>\n",
       "      <th>Cingulum_Post</th>\n",
       "      <td>0.000778</td>\n",
       "      <td>1.0</td>\n",
       "      <td>0.005</td>\n",
       "    </tr>\n",
       "    <tr>\n",
       "      <th>Frontal_Inf</th>\n",
       "      <td>0.036845</td>\n",
       "      <td>2.0</td>\n",
       "      <td>0.010</td>\n",
       "    </tr>\n",
       "    <tr>\n",
       "      <th>Occipital_Sup</th>\n",
       "      <td>0.061775</td>\n",
       "      <td>3.0</td>\n",
       "      <td>0.015</td>\n",
       "    </tr>\n",
       "    <tr>\n",
       "      <th>Occipital_Inf</th>\n",
       "      <td>0.078049</td>\n",
       "      <td>4.0</td>\n",
       "      <td>0.020</td>\n",
       "    </tr>\n",
       "    <tr>\n",
       "      <th>Frontal_Sup</th>\n",
       "      <td>0.160576</td>\n",
       "      <td>5.0</td>\n",
       "      <td>0.025</td>\n",
       "    </tr>\n",
       "    <tr>\n",
       "      <th>Parietal_Inf</th>\n",
       "      <td>0.234558</td>\n",
       "      <td>6.0</td>\n",
       "      <td>0.030</td>\n",
       "    </tr>\n",
       "    <tr>\n",
       "      <th>Cingulum_Ant</th>\n",
       "      <td>0.792013</td>\n",
       "      <td>7.0</td>\n",
       "      <td>0.035</td>\n",
       "    </tr>\n",
       "    <tr>\n",
       "      <th>Temporal_Inf</th>\n",
       "      <td>0.803743</td>\n",
       "      <td>8.0</td>\n",
       "      <td>0.040</td>\n",
       "    </tr>\n",
       "    <tr>\n",
       "      <th>Parietal_Sup</th>\n",
       "      <td>0.930997</td>\n",
       "      <td>9.0</td>\n",
       "      <td>0.045</td>\n",
       "    </tr>\n",
       "    <tr>\n",
       "      <th>Temporal_Sup</th>\n",
       "      <td>0.956729</td>\n",
       "      <td>10.0</td>\n",
       "      <td>0.050</td>\n",
       "    </tr>\n",
       "  </tbody>\n",
       "</table>\n",
       "</div>"
      ],
      "text/plain": [
       "                  pvals  rank   crit\n",
       "Cingulum_Post  0.000778   1.0  0.005\n",
       "Frontal_Inf    0.036845   2.0  0.010\n",
       "Occipital_Sup  0.061775   3.0  0.015\n",
       "Occipital_Inf  0.078049   4.0  0.020\n",
       "Frontal_Sup    0.160576   5.0  0.025\n",
       "Parietal_Inf   0.234558   6.0  0.030\n",
       "Cingulum_Ant   0.792013   7.0  0.035\n",
       "Temporal_Inf   0.803743   8.0  0.040\n",
       "Parietal_Sup   0.930997   9.0  0.045\n",
       "Temporal_Sup   0.956729  10.0  0.050"
      ]
     },
     "execution_count": 35,
     "metadata": {},
     "output_type": "execute_result"
    }
   ],
   "source": [
    "# sort by pval\n",
    "df_bh = df_bh.sort_values('pvals')\n",
    "# rank\n",
    "df_bh['rank'] = df_bh.rank()\n",
    "# get BH critical value\n",
    "df_bh['crit'] = df_bh.apply(lambda x: (x['rank']/len(df_bh))*FDR, axis=1)\n",
    "\n",
    "df_bh"
   ]
  },
  {
   "cell_type": "code",
   "execution_count": 36,
   "id": "161927c9",
   "metadata": {},
   "outputs": [
    {
     "data": {
      "text/html": [
       "<div>\n",
       "<style scoped>\n",
       "    .dataframe tbody tr th:only-of-type {\n",
       "        vertical-align: middle;\n",
       "    }\n",
       "\n",
       "    .dataframe tbody tr th {\n",
       "        vertical-align: top;\n",
       "    }\n",
       "\n",
       "    .dataframe thead th {\n",
       "        text-align: right;\n",
       "    }\n",
       "</style>\n",
       "<table border=\"1\" class=\"dataframe\">\n",
       "  <thead>\n",
       "    <tr style=\"text-align: right;\">\n",
       "      <th></th>\n",
       "      <th>pvals</th>\n",
       "      <th>rank</th>\n",
       "      <th>crit</th>\n",
       "    </tr>\n",
       "  </thead>\n",
       "  <tbody>\n",
       "    <tr>\n",
       "      <th>Cingulum_Post</th>\n",
       "      <td>0.000778</td>\n",
       "      <td>1.0</td>\n",
       "      <td>0.005</td>\n",
       "    </tr>\n",
       "  </tbody>\n",
       "</table>\n",
       "</div>"
      ],
      "text/plain": [
       "                  pvals  rank   crit\n",
       "Cingulum_Post  0.000778   1.0  0.005"
      ]
     },
     "execution_count": 36,
     "metadata": {},
     "output_type": "execute_result"
    }
   ],
   "source": [
    "# get highest rank where pval < crit\n",
    "rank_max = df_bh[df_bh['pvals'] < df_bh['crit']]['rank'].max()\n",
    "# all significant pvals\n",
    "df_bh[df_bh['rank'] <= rank_max]"
   ]
  },
  {
   "cell_type": "markdown",
   "id": "a978e034",
   "metadata": {},
   "source": [
    "**We can see that the following regions are significantly affected by the interaction between sex and diagnosis: Cingulum_Post**"
   ]
  },
  {
   "cell_type": "code",
   "execution_count": 37,
   "id": "3dc9dcac",
   "metadata": {
    "scrolled": false
   },
   "outputs": [
    {
     "data": {
      "image/png": "[encoded data removed]",
      "text/plain": [
       "<Figure size 640x480 with 1 Axes>"
      ]
     },
     "metadata": {},
     "output_type": "display_data"
    },
    {
     "data": {
      "image/png": "[encoded data removed]",
      "text/plain": [
       "<Figure size 640x480 with 1 Axes>"
      ]
     },
     "metadata": {},
     "output_type": "display_data"
    },
    {
     "data": {
      "image/png": "[encoded data removed]",
      "text/plain": [
       "<Figure size 640x480 with 1 Axes>"
      ]
     },
     "metadata": {},
     "output_type": "display_data"
    },
    {
     "data": {
      "image/png": "[encoded data removed]",
      "text/plain": [
       "<Figure size 640x480 with 1 Axes>"
      ]
     },
     "metadata": {},
     "output_type": "display_data"
    },
    {
     "data": {
      "image/png": "[encoded data removed]",
      "text/plain": [
       "<Figure size 640x480 with 1 Axes>"
      ]
     },
     "metadata": {},
     "output_type": "display_data"
    },
    {
     "data": {
      "image/png": "[encoded data removed]",
      "text/plain": [
       "<Figure size 640x480 with 1 Axes>"
      ]
     },
     "metadata": {},
     "output_type": "display_data"
    },
    {
     "data": {
      "image/png": "[encoded data removed]",
      "text/plain": [
       "<Figure size 640x480 with 1 Axes>"
      ]
     },
     "metadata": {},
     "output_type": "display_data"
    },
    {
     "data": {
      "image/png": "[encoded data removed]",
      "text/plain": [
       "<Figure size 640x480 with 1 Axes>"
      ]
     },
     "metadata": {},
     "output_type": "display_data"
    },
    {
     "data": {
      "image/png": "[encoded data removed]",
      "text/plain": [
       "<Figure size 640x480 with 1 Axes>"
      ]
     },
     "metadata": {},
     "output_type": "display_data"
    },
    {
     "data": {
      "image/png": "[encoded data removed]",
      "text/plain": [
       "<Figure size 640x480 with 1 Axes>"
      ]
     },
     "metadata": {},
     "output_type": "display_data"
    }
   ],
   "source": [
    "for i in data.drop(columns=['age', 'sex', 'diagnosis']).columns:\n",
    "    y, X = dmatrices(\n",
    "        # interaction terms\n",
    "        f'{i} ~ age + sex + diagnosis + sex:diagnosis',\n",
    "        data=data,\n",
    "        return_type='dataframe'\n",
    "    )\n",
    "    # remove other effects\n",
    "    y_hat = y[i] - np.dot(X[X.columns[X.columns != 'sex:diagnosis']], B.loc[B.index != 'sex:diagnosis', i])\n",
    "    df = pd.concat([X['sex:diagnosis'], y_hat], axis=1)\n",
    "    # visualize\n",
    "    sns.boxplot(data=df, x='sex:diagnosis', y=i, notch=True)\n",
    "    plt.show()"
   ]
  },
  {
   "cell_type": "markdown",
   "id": "47ba7bee",
   "metadata": {},
   "source": [
    "<hr>\n",
    "\n",
    "# IGNORE BELOW"
   ]
  },
  {
   "cell_type": "code",
   "execution_count": null,
   "id": "caa882f1",
   "metadata": {},
   "outputs": [],
   "source": [
    "from sklearn.linear_model import LinearRegression\n",
    "from sklearn.preprocessing import PolynomialFeatures\n",
    "\n",
    "Y = data.drop(columns=['age', 'sex', 'diagnosis'])\n",
    "X = data.loc[:, ['age', 'sex', 'diagnosis']]\n",
    "\n",
    "reg = LinearRegression()"
   ]
  },
  {
   "cell_type": "code",
   "execution_count": null,
   "id": "f2044dfa",
   "metadata": {},
   "outputs": [],
   "source": [
    "display(X)\n",
    "display(Y)"
   ]
  },
  {
   "cell_type": "markdown",
   "id": "145ec499",
   "metadata": {},
   "source": [
    "<hr>"
   ]
  },
  {
   "cell_type": "markdown",
   "id": "b9c67e69",
   "metadata": {},
   "source": [
    "It is expected that there are following interactions: age and sex; age and diagnosis; sex and diagnosis. Interaction terms are thus added."
   ]
  },
  {
   "cell_type": "code",
   "execution_count": null,
   "id": "d1146b77",
   "metadata": {},
   "outputs": [],
   "source": [
    "xs = [\n",
    "    'intercept', 'age', 'sex', 'diagnosis', 'age_sex', 'age_diagnosis', 'sex_diagnosis'\n",
    "]\n",
    "\n",
    "poly = PolynomialFeatures(2, interaction_only=True, include_bias=True)\n",
    "X = pd.DataFrame(poly.fit_transform(X), columns=xs)"
   ]
  },
  {
   "cell_type": "code",
   "execution_count": null,
   "id": "ee81c4fe",
   "metadata": {},
   "outputs": [],
   "source": [
    "display(X)\n",
    "display(Y)"
   ]
  },
  {
   "cell_type": "markdown",
   "id": "8b275e8f",
   "metadata": {},
   "source": [
    "<hr>"
   ]
  },
  {
   "cell_type": "code",
   "execution_count": null,
   "id": "c6166864",
   "metadata": {},
   "outputs": [],
   "source": [
    "# # do for each brain region\n",
    "# for i in Y.columns:\n",
    "#     print('Region: ', i)\n",
    "#     # ground truth of brain region\n",
    "#     y = Y[i]\n",
    "#     # fit\n",
    "#     reg.fit(X,y)\n",
    "#     print('Score: ', reg.score(X,y))\n",
    "#     # get weights\n",
    "#     b = pd.Series(reg.coef_, index=xs)\n",
    "#     print('Weights: ')\n",
    "#     display(b)\n",
    "#     # get y hat to remove effect of age and sex\n",
    "#     y_hat = y - np.dot(X[X.columns[X.columns != 'diagnosis']], b[b.index != 'diagnosis'])\n",
    "#     df = pd.concat([X['diagnosis'], y_hat], axis=1)\n",
    "#     display(df)\n",
    "#     sns.boxplot(data=df, x='diagnosis', y=i, notch=True)\n",
    "#     plt.show()"
   ]
  },
  {
   "cell_type": "markdown",
   "id": "088fb352",
   "metadata": {},
   "source": [
    "<hr>"
   ]
  },
  {
   "cell_type": "markdown",
   "id": "27ec82b4",
   "metadata": {},
   "source": [
    "We can fit a linear model and remove confounding effects to see whether diagnosis has an effect on biomarkers."
   ]
  },
  {
   "cell_type": "code",
   "execution_count": null,
   "id": "e6c1e442",
   "metadata": {},
   "outputs": [],
   "source": [
    "# fit linear model\n",
    "reg.fit(X,Y)"
   ]
  },
  {
   "cell_type": "code",
   "execution_count": null,
   "id": "5c865659",
   "metadata": {},
   "outputs": [],
   "source": [
    "reg.score(X, Y)"
   ]
  },
  {
   "cell_type": "code",
   "execution_count": null,
   "id": "34276f5e",
   "metadata": {},
   "outputs": [],
   "source": [
    "# weights\n",
    "B = pd.DataFrame(reg.coef_.T, index=xs, columns=Y.columns)\n",
    "B"
   ]
  },
  {
   "cell_type": "code",
   "execution_count": null,
   "id": "62042546",
   "metadata": {},
   "outputs": [],
   "source": [
    "# remove confounding effects\n",
    "Y_hat = Y - np.dot(X[X.columns[X.columns != 'diagnosis']], B[B.index != 'diagnosis'])\n",
    "Y_hat"
   ]
  },
  {
   "cell_type": "code",
   "execution_count": null,
   "id": "9791981c",
   "metadata": {},
   "outputs": [],
   "source": [
    "df = pd.concat([X['diagnosis'], Y_hat], axis=1)\n",
    "df"
   ]
  },
  {
   "cell_type": "markdown",
   "id": "1d9404f7",
   "metadata": {},
   "source": [
    "We can visualize the effect of the diagnosis."
   ]
  },
  {
   "cell_type": "code",
   "execution_count": null,
   "id": "67c3c332",
   "metadata": {
    "scrolled": false
   },
   "outputs": [],
   "source": [
    "for i in df.drop(columns=['diagnosis']).columns:\n",
    "    # plot boxplot\n",
    "    sns.boxplot(data=df, x='diagnosis', y=i, notch=True)\n",
    "    plt.show()"
   ]
  },
  {
   "cell_type": "markdown",
   "id": "396e1c2e",
   "metadata": {},
   "source": [
    "We can use a two-tailed two-sample t-test to see whether the difference in biomarker is significant between the diseased group and healthy controls."
   ]
  },
  {
   "cell_type": "code",
   "execution_count": null,
   "id": "ff13fa98",
   "metadata": {
    "scrolled": false
   },
   "outputs": [],
   "source": [
    "biomarkers_control = df.loc[df['diagnosis'] == 0, df.columns[df.columns != 'diagnosis']]\n",
    "biomarkers_disease = df.loc[df['diagnosis'] == 1, df.columns[df.columns != 'diagnosis']]\n",
    "display(biomarkers_control)\n",
    "display(biomarkers_disease)"
   ]
  },
  {
   "cell_type": "code",
   "execution_count": null,
   "id": "46590014",
   "metadata": {},
   "outputs": [],
   "source": [
    "result = stats.ttest_ind(\n",
    "    biomarkers_control,\n",
    "    biomarkers_disease,\n",
    "    axis=0,\n",
    "    alternative='two-sided'\n",
    ")\n",
    "result"
   ]
  },
  {
   "cell_type": "markdown",
   "id": "e7c84e67",
   "metadata": {},
   "source": [
    "Before making conclusions for significance, we need to correct for multiple testing using the Benjamini-Hochberg procedure. Here, we set the false discovery rate to 0.05."
   ]
  },
  {
   "cell_type": "code",
   "execution_count": null,
   "id": "9f08fe3c",
   "metadata": {},
   "outputs": [],
   "source": [
    "FDR = 0.05"
   ]
  },
  {
   "cell_type": "code",
   "execution_count": null,
   "id": "aeed5b38",
   "metadata": {},
   "outputs": [],
   "source": [
    "# get df of pvals\n",
    "df_bh = pd.Series(result.pvalue, index=biomarkers_control.columns, name='pvals').to_frame()\n",
    "# sort by pval\n",
    "df_bh = df_bh.sort_values('pvals')\n",
    "# rank\n",
    "df_bh['rank'] = df_bh.rank()\n",
    "# get BH critical value\n",
    "df_bh['crit'] = df_bh.apply(lambda x: (x['rank']/len(df_bh))*FDR, axis=1)\n",
    "\n",
    "df_bh"
   ]
  },
  {
   "cell_type": "code",
   "execution_count": null,
   "id": "904a6840",
   "metadata": {},
   "outputs": [],
   "source": [
    "# get highest rank where pval < crit\n",
    "rank_max = df_bh[df_bh['pvals'] < df_bh['crit']]['rank'].max()\n",
    "# all significant pvals\n",
    "df_bh[df_bh['rank'] <= rank_max]"
   ]
  },
  {
   "cell_type": "markdown",
   "id": "6fbc28c8",
   "metadata": {},
   "source": [
    "**We can see that the following regions are significantly affected by the disease: Temporal_Inf, Cingulum_Post, Occipital_Inf, Frontal_Inf, Temporal_Sup, Cingulum_Ant, Parietal_Sup, Frontal_Sup**"
   ]
  },
  {
   "cell_type": "markdown",
   "id": "7deeaaa3",
   "metadata": {},
   "source": [
    "We can also explore the interaction effect between sex and diagnosis."
   ]
  },
  {
   "cell_type": "code",
   "execution_count": null,
   "id": "5c64d9a9",
   "metadata": {},
   "outputs": [],
   "source": [
    "# remove other effects\n",
    "Y_hat = Y - np.dot(X[X.columns[X.columns != 'sex_diagnosis']], B[B.index != 'sex_diagnosis'])\n",
    "Y_hat"
   ]
  },
  {
   "cell_type": "code",
   "execution_count": null,
   "id": "0c800885",
   "metadata": {},
   "outputs": [],
   "source": [
    "df = pd.concat([X['sex_diagnosis'], Y_hat], axis=1)\n",
    "df"
   ]
  },
  {
   "cell_type": "code",
   "execution_count": null,
   "id": "53122e57",
   "metadata": {
    "scrolled": false
   },
   "outputs": [],
   "source": [
    "for i in df.drop(columns=['sex_diagnosis']).columns:\n",
    "    # plot boxplot\n",
    "    sns.boxplot(data=df, x='sex_diagnosis', y=i, notch=True)\n",
    "    plt.show()"
   ]
  },
  {
   "cell_type": "code",
   "execution_count": null,
   "id": "5a52bd2f",
   "metadata": {},
   "outputs": [],
   "source": [
    "biomarkers_control = df.loc[df['sex_diagnosis'] == 0, df.columns[df.columns != 'sex_diagnosis']]\n",
    "biomarkers_disease = df.loc[df['sex_diagnosis'] == 1, df.columns[df.columns != 'sex_diagnosis']]\n",
    "display(biomarkers_control)\n",
    "display(biomarkers_disease)"
   ]
  },
  {
   "cell_type": "code",
   "execution_count": null,
   "id": "044007a2",
   "metadata": {},
   "outputs": [],
   "source": [
    "result = stats.ttest_ind(\n",
    "    biomarkers_control,\n",
    "    biomarkers_disease,\n",
    "    axis=0,\n",
    "    alternative='two-sided'\n",
    ")\n",
    "result"
   ]
  },
  {
   "cell_type": "code",
   "execution_count": null,
   "id": "ae58455c",
   "metadata": {},
   "outputs": [],
   "source": [
    "# get df of pvals\n",
    "df_bh = pd.Series(result.pvalue, index=biomarkers_control.columns, name='pvals').to_frame()\n",
    "# sort by pval\n",
    "df_bh = df_bh.sort_values('pvals')\n",
    "# rank\n",
    "df_bh['rank'] = df_bh.rank()\n",
    "# get BH critical value\n",
    "df_bh['crit'] = df_bh.apply(lambda x: (x['rank']/len(df_bh))*FDR, axis=1)\n",
    "\n",
    "df_bh"
   ]
  },
  {
   "cell_type": "code",
   "execution_count": null,
   "id": "3423b939",
   "metadata": {},
   "outputs": [],
   "source": [
    "# get highest rank where pval < crit\n",
    "rank_max = df_bh[df_bh['pvals'] < df_bh['crit']]['rank'].max()\n",
    "# all significant pvals\n",
    "df_bh[df_bh['rank'] <= rank_max]"
   ]
  },
  {
   "cell_type": "markdown",
   "id": "fe940c80",
   "metadata": {},
   "source": [
    "**The following regions have significant interaction effect between sex and diagnosis: Cingulum_Post, Frontal_Inf, Occipital_Sup, Occipital_Inf, Frontal_Sup**"
   ]
  },
  {
   "cell_type": "code",
   "execution_count": null,
   "id": "ce011158",
   "metadata": {},
   "outputs": [],
   "source": [
    "df = pd.concat([X, Y], axis=1)\n",
    "df"
   ]
  },
  {
   "cell_type": "code",
   "execution_count": null,
   "id": "e8e7b49a",
   "metadata": {
    "scrolled": false
   },
   "outputs": [],
   "source": [
    "for i in df.drop(columns=xs).columns:\n",
    "    # plot boxplot\n",
    "    sns.boxplot(data=df, x='sex', y=i, hue='diagnosis', notch=True)\n",
    "    plt.show()"
   ]
  },
  {
   "cell_type": "code",
   "execution_count": null,
   "id": "3817a737",
   "metadata": {},
   "outputs": [],
   "source": []
  }
 ],
 "metadata": {
  "kernelspec": {
   "display_name": "Python 3 (ipykernel)",
   "language": "python",
   "name": "python3"
  },
  "language_info": {
   "codemirror_mode": {
    "name": "ipython",
    "version": 3
   },
   "file_extension": ".py",
   "mimetype": "text/x-python",
   "name": "python",
   "nbconvert_exporter": "python",
   "pygments_lexer": "ipython3",
   "version": "3.8.18"
  }
 },
 "nbformat": 4,
 "nbformat_minor": 5
}
