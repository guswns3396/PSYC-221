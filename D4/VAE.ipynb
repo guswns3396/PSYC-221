{
 "cells": [
  {
   "cell_type": "markdown",
   "metadata": {
    "id": "OWneRies6cem"
   },
   "source": [
    "# Understanding Generative Model via a simple AutoEncoder with a MNIST example\n",
    "\n",
    "## By Wei Peng\n"
   ]
  },
  {
   "cell_type": "markdown",
   "metadata": {
    "id": "PZNy-DHG6cer"
   },
   "source": [
    "# Vanilla AutoEncoders\n",
    "We are trying to train a model in a self-supervised manner. By this way, we can get a compact representation of the input. There are two modules in an AutoEncoder model:\n",
    "- Encoder: turn the input x (can be an image) into latent representation z;\n",
    "- Decoder: reconstruct the input x from the latent representation z.\n"
   ]
  },
  {
   "cell_type": "markdown",
   "metadata": {
    "id": "sos3knAu6cex"
   },
   "source": [
    "![autoencoder](https://github.com/dvgodoy/AccompanyingNotebooks/blob/main/images/autoencoders/ae_diagram.png?raw=1)"
   ]
  },
  {
   "cell_type": "markdown",
   "metadata": {
    "id": "zVKWp64U6ces"
   },
   "source": [
    "## Step 1: Donload the MNIST Dataset\n",
    "The MNIST dataset contains handwritten digits in square images of 28x28 pixels of grayscale levels. There are 60,000 training images and 10,000 testing images from different writers.\n",
    "\n"
   ]
  },
  {
   "cell_type": "code",
   "execution_count": 39,
   "metadata": {},
   "outputs": [],
   "source": [
    "# Imports \n",
    "import numpy as np\n",
    "import matplotlib.pyplot as plt\n",
    "\n",
    "import torch\n",
    "from torch import nn, optim\n",
    "\n",
    "from sklearn import decomposition\n",
    "from sklearn.datasets import fetch_openml"
   ]
  },
  {
   "cell_type": "code",
   "execution_count": 40,
   "metadata": {},
   "outputs": [],
   "source": [
    "def downloadMNIST():\n",
    "  \"\"\"\n",
    "  Download MNIST dataset and transform it to torch.Tensor\n",
    "\n",
    "  Args:\n",
    "    None\n",
    "\n",
    "  Returns:\n",
    "    x_train : training images (torch.Tensor) (60000, 28, 28)\n",
    "    x_test  : test images (torch.Tensor) (10000, 28, 28)\n",
    "    y_train : training labels (torch.Tensor) (60000, )\n",
    "    y_train : test labels (torch.Tensor) (10000, )\n",
    "  \"\"\"\n",
    "  X, y = fetch_openml('mnist_784', version=1, return_X_y=True, as_frame=False)\n",
    "  # Trunk the data\n",
    "  n_train = 60000\n",
    "  n_test = 10000\n",
    "\n",
    "  train_idx = np.arange(0, n_train)\n",
    "  test_idx = np.arange(n_train, n_train + n_test)\n",
    "\n",
    "  x_train, y_train = X[train_idx], y[train_idx]\n",
    "  x_test, y_test = X[test_idx], y[test_idx]\n",
    "\n",
    "  # Transform np.ndarrays to torch.Tensor\n",
    "  x_train = torch.from_numpy(np.reshape(x_train,\n",
    "                                        (len(x_train),\n",
    "                                         28, 28)).astype(np.float32))\n",
    "  x_test = torch.from_numpy(np.reshape(x_test,\n",
    "                                       (len(x_test),\n",
    "                                        28, 28)).astype(np.float32))\n",
    "\n",
    "  y_train = torch.from_numpy(y_train.astype(int))\n",
    "  y_test = torch.from_numpy(y_test.astype(int))\n",
    "\n",
    "  return (x_train, y_train, x_test, y_test)"
   ]
  },
  {
   "cell_type": "code",
   "execution_count": 41,
   "metadata": {},
   "outputs": [
    {
     "name": "stderr",
     "output_type": "stream",
     "text": [
      "/usr/local/lib/python3.11/site-packages/sklearn/datasets/_openml.py:1022: FutureWarning: The default value of `parser` will change from `'liac-arff'` to `'auto'` in 1.4. You can set `parser='auto'` to silence this warning. Therefore, an `ImportError` will be raised from 1.4 if the dataset is dense and pandas is not installed. Note that the pandas parser may return different data types. See the Notes Section in fetch_openml's API doc for details.\n",
      "  warn(\n"
     ]
    },
    {
     "name": "stdout",
     "output_type": "stream",
     "text": [
      "shape x_train \t\t torch.Size([60000, 28, 28])\n",
      "shape x_test \t\t torch.Size([10000, 28, 28])\n",
      "shape image \t\t torch.Size([28, 28])\n",
      "shape input_train \t torch.Size([60000, 784])\n",
      "shape input_test \t torch.Size([10000, 784])\n"
     ]
    }
   ],
   "source": [
    "# Download MNIST\n",
    "x_train, y_train, x_test, y_test = downloadMNIST()\n",
    "\n",
    "x_train = x_train / 255\n",
    "x_test = x_test / 255\n",
    "\n",
    "image_shape = x_train.shape[1:]\n",
    "\n",
    "input_size = np.prod(image_shape)\n",
    "\n",
    "input_train = x_train.reshape([-1, input_size])\n",
    "input_test = x_test.reshape([-1, input_size])\n",
    "\n",
    "test_selected_idx = np.random.choice(len(x_test), 10, replace=False)\n",
    "train_selected_idx = np.random.choice(len(x_train), 10, replace=False)\n",
    "\n",
    "print(f'shape x_train \\t\\t {x_train.shape}')\n",
    "print(f'shape x_test \\t\\t {x_test.shape}')\n",
    "print(f'shape image \\t\\t {image_shape}')\n",
    "print(f'shape input_train \\t {input_train.shape}')\n",
    "print(f'shape input_test \\t {input_test.shape}')\n"
   ]
  },
  {
   "cell_type": "code",
   "execution_count": 42,
   "metadata": {},
   "outputs": [],
   "source": [
    "### Plot funtion for visualization:\n",
    "def plot_row(images, show_n=10, image_shape=None):\n",
    "  \"\"\"\n",
    "  Plots rows of images from list of iterables (iterables: list, numpy array\n",
    "  or torch.Tensor). Also accepts single iterable.\n",
    "  Randomly selects images in each list element if item count > show_n.\n",
    "\n",
    "  Args:\n",
    "    images (iterable or list of iterables)\n",
    "        single iterable with images, or list of iterables\n",
    "\n",
    "    show_n (integer)\n",
    "        maximum number of images per row\n",
    "\n",
    "    image_shape (tuple or list)\n",
    "        original shape of image if vectorized form\n",
    "\n",
    "  Returns:\n",
    "    Nothing.\n",
    "  \"\"\"\n",
    "\n",
    "  if not isinstance(images, (list, tuple)):\n",
    "    images = [images]\n",
    "\n",
    "  for items_idx, items in enumerate(images):\n",
    "\n",
    "    items = np.array(items)\n",
    "    if items.ndim == 1:\n",
    "      items = np.expand_dims(items, axis=0)\n",
    "\n",
    "    if len(items) > show_n:\n",
    "      selected = np.random.choice(len(items), show_n, replace=False)\n",
    "      items = items[selected]\n",
    "\n",
    "    if image_shape is not None:\n",
    "      items = items.reshape([-1] + list(image_shape))\n",
    "\n",
    "    plt.figure(figsize=(len(items) * 1.5, 2))\n",
    "    for image_idx, image in enumerate(items):\n",
    "\n",
    "      plt.subplot(1, len(items), image_idx + 1)\n",
    "      plt.imshow(image, cmap='gray', vmin=image.min(), vmax=image.max())\n",
    "      plt.axis('off')\n",
    "\n",
    "      plt.tight_layout()"
   ]
  },
  {
   "cell_type": "code",
   "execution_count": 43,
   "metadata": {},
   "outputs": [
    {
     "name": "stderr",
     "output_type": "stream",
     "text": [
      "/var/folders/lz/vgx6vwgj5lx9lrh0326zx7xm0000gn/T/ipykernel_63937/3024717749.py:45: UserWarning: The figure layout has changed to tight\n",
      "  plt.tight_layout()\n"
     ]
    },
    {
     "data": {
      "image/png": "[encoded data removed]",
      "text/plain": [
       "<Figure size 1500x200 with 10 Axes>"
      ]
     },
     "metadata": {},
     "output_type": "display_data"
    },
    {
     "data": {
      "image/png": "[encoded data removed]",
      "text/plain": [
       "<Figure size 1500x200 with 10 Axes>"
      ]
     },
     "metadata": {},
     "output_type": "display_data"
    }
   ],
   "source": [
    "# top row: random images from test set\n",
    "# bottom row: images selected with test_selected_idx\n",
    "\n",
    "plot_row([x_train, x_test[test_selected_idx]])"
   ]
  },
  {
   "cell_type": "markdown",
   "metadata": {
    "id": "HqQu1SP-6ceu"
   },
   "source": [
    "## Step 2: Build the Encoder"
   ]
  },
  {
   "cell_type": "markdown",
   "metadata": {
    "id": "QnjlTNH_6ceu"
   },
   "source": [
    "![encoder](https://github.com/dvgodoy/AccompanyingNotebooks/blob/main/images/autoencoders/encoder_diagram.png?raw=1)"
   ]
  },
  {
   "cell_type": "code",
   "execution_count": 6,
   "metadata": {},
   "outputs": [],
   "source": [
    "# Set random set\n",
    "\n",
    "def set_seed(self, seed=42):\n",
    "    torch.backends.cudnn.deterministic = True\n",
    "    torch.backends.cudnn.benchmark = False\n",
    "    torch.manual_seed(seed)\n",
    "    np.random.seed(seed)"
   ]
  },
  {
   "cell_type": "code",
   "execution_count": 47,
   "metadata": {
    "id": "CA8xsteE6ceu"
   },
   "outputs": [],
   "source": [
    "## Build encoder model\n",
    "\n",
    "class Encoder(nn.Module):\n",
    "    def __init__(self, input_shape, out_basesize, z_size):\n",
    "        super().__init__()\n",
    "        self.input_shape = input_shape\n",
    "        self.z_size = z_size\n",
    "        self.base_model = nn.Sequential(\n",
    "            #28 28 --> 784\n",
    "            nn.Flatten(),\n",
    "            # 784 -> 2048\n",
    "            nn.Linear(input_shape, out_basesize), #np.prod(input_shape)\n",
    "            nn.LeakyReLU(),\n",
    "            # 2048 -> 2048\n",
    "            nn.Linear(out_basesize, out_basesize),\n",
    "            nn.LeakyReLU(),\n",
    "        )\n",
    "        self.lin_latent = nn.Linear(out_basesize, z_size)\n",
    "\n",
    "    def forward(self, x):\n",
    "        # forwards the input through the base model and then the \"lin_latent\" layer\n",
    "        # to get the representation (z)\n",
    "        base_out = self.base_model(x)\n",
    "        out = self.lin_latent(base_out)\n",
    "        return out\n",
    "\n",
    "\n",
    "#### Call the Encoder model\n",
    "set_seed(13)\n",
    "# we defined our representation (z) as a vector of size one # our images are 1@28x28\n",
    "z_size = 1\n",
    "input_shape = 28 # (C, H, W)\n",
    "out_basesize = 2048\n",
    "\n",
    "encoder = Encoder(input_shape*input_shape, out_basesize, z_size)"
   ]
  },
  {
   "cell_type": "code",
   "execution_count": 48,
   "metadata": {
    "id": "usuhnTyY6cev",
    "outputId": "4018f521-633a-433e-ca9a-0439b1342235"
   },
   "outputs": [
    {
     "data": {
      "text/plain": [
       "Encoder(\n",
       "  (base_model): Sequential(\n",
       "    (0): Flatten(start_dim=1, end_dim=-1)\n",
       "    (1): Linear(in_features=784, out_features=2048, bias=True)\n",
       "    (2): LeakyReLU(negative_slope=0.01)\n",
       "    (3): Linear(in_features=2048, out_features=2048, bias=True)\n",
       "    (4): LeakyReLU(negative_slope=0.01)\n",
       "  )\n",
       "  (lin_latent): Linear(in_features=2048, out_features=1, bias=True)\n",
       ")"
      ]
     },
     "execution_count": 48,
     "metadata": {},
     "output_type": "execute_result"
    }
   ],
   "source": [
    "encoder"
   ]
  },
  {
   "cell_type": "code",
   "execution_count": 50,
   "metadata": {
    "id": "QndzYgxX6cev",
    "outputId": "af735fe9-b308-40b0-c25d-048118f8f15a"
   },
   "outputs": [
    {
     "name": "stdout",
     "output_type": "stream",
     "text": [
      "The input size is torch.Size([2, 28, 28]), the latent size is torch.Size([2, 1])\n"
     ]
    }
   ],
   "source": [
    "x = x_train[0:2]\n",
    "z = encoder(x[:,None])\n",
    "print(f'The input size is {x.shape}, the latent size is {z.shape}')"
   ]
  },
  {
   "cell_type": "markdown",
   "metadata": {
    "id": "IaU2Odl_6cev"
   },
   "source": [
    "## Latent Space"
   ]
  },
  {
   "cell_type": "markdown",
   "metadata": {
    "id": "vRtTYXwY6cev"
   },
   "source": [
    "![latent space](https://github.com/dvgodoy/AccompanyingNotebooks/blob/main/images/autoencoders/latent_space.png?raw=1)"
   ]
  },
  {
   "cell_type": "markdown",
   "metadata": {
    "id": "N32_KWgc6cew"
   },
   "source": [
    "## The Decoder"
   ]
  },
  {
   "cell_type": "markdown",
   "metadata": {
    "id": "hd1KVPIh6cew"
   },
   "source": [
    "![decoder](https://github.com/dvgodoy/AccompanyingNotebooks/blob/main/images/autoencoders/decoder_diagram.png?raw=1)"
   ]
  },
  {
   "cell_type": "code",
   "execution_count": 51,
   "metadata": {
    "id": "Ea7B3uCG6cew"
   },
   "outputs": [],
   "source": [
    "decoder = nn.Sequential(\n",
    "    # z_size -> 2048\n",
    "    nn.Linear(z_size, 2048),\n",
    "    nn.LeakyReLU(),\n",
    "    # 2048 -> 2048\n",
    "    nn.Linear(2048, 2048),\n",
    "    nn.LeakyReLU(),\n",
    "    # 2048 -> C*H*W\n",
    "    nn.Linear(2048, input_shape*input_shape),\n",
    "    # C*H*W -> (C, H, W)\n",
    "    nn.Unflatten(1, (1, input_shape, input_shape))\n",
    ")"
   ]
  },
  {
   "cell_type": "code",
   "execution_count": 52,
   "metadata": {
    "id": "ijP-oFW26cew",
    "outputId": "f006de92-4cbd-44d6-c7c6-d27e2806e737"
   },
   "outputs": [
    {
     "data": {
      "text/plain": [
       "Sequential(\n",
       "  (0): Linear(in_features=1, out_features=2048, bias=True)\n",
       "  (1): LeakyReLU(negative_slope=0.01)\n",
       "  (2): Linear(in_features=2048, out_features=2048, bias=True)\n",
       "  (3): LeakyReLU(negative_slope=0.01)\n",
       "  (4): Linear(in_features=2048, out_features=784, bias=True)\n",
       "  (5): Unflatten(dim=1, unflattened_size=(1, 28, 28))\n",
       ")"
      ]
     },
     "execution_count": 52,
     "metadata": {},
     "output_type": "execute_result"
    }
   ],
   "source": [
    "decoder"
   ]
  },
  {
   "cell_type": "code",
   "execution_count": 53,
   "metadata": {
    "id": "rvJoL6pu6cew",
    "outputId": "f823608a-c309-4762-c0ce-02d9e6d16e62"
   },
   "outputs": [
    {
     "name": "stdout",
     "output_type": "stream",
     "text": [
      "The recon x shape  is torch.Size([2, 1, 28, 28])\n"
     ]
    }
   ],
   "source": [
    "x_tilde = decoder(z)\n",
    "print(f'The recon x shape  is {x_tilde.shape}')"
   ]
  },
  {
   "cell_type": "markdown",
   "metadata": {
    "id": "Gu9Wqaw86cex"
   },
   "source": [
    "## AutoEncoder (AE)"
   ]
  },
  {
   "cell_type": "code",
   "execution_count": 54,
   "metadata": {
    "id": "HrGK6kKp6cex"
   },
   "outputs": [],
   "source": [
    "class AutoEncoder(nn.Module):\n",
    "    def __init__(self, encoder, decoder):\n",
    "        super().__init__()\n",
    "        self.enc = encoder\n",
    "        self.dec = decoder\n",
    "\n",
    "    def forward(self, x):\n",
    "        # when encoder met decoder\n",
    "        enc_out = self.enc(x)\n",
    "        return self.dec(enc_out), enc_out\n",
    "\n",
    "model_ae = AutoEncoder(encoder, decoder)"
   ]
  },
  {
   "cell_type": "code",
   "execution_count": 55,
   "metadata": {
    "id": "DxHl8glF6cex",
    "outputId": "c156a5a3-2d32-404f-ecfd-50619e15158b"
   },
   "outputs": [
    {
     "data": {
      "text/plain": [
       "AutoEncoder(\n",
       "  (enc): Encoder(\n",
       "    (base_model): Sequential(\n",
       "      (0): Flatten(start_dim=1, end_dim=-1)\n",
       "      (1): Linear(in_features=784, out_features=2048, bias=True)\n",
       "      (2): LeakyReLU(negative_slope=0.01)\n",
       "      (3): Linear(in_features=2048, out_features=2048, bias=True)\n",
       "      (4): LeakyReLU(negative_slope=0.01)\n",
       "    )\n",
       "    (lin_latent): Linear(in_features=2048, out_features=1, bias=True)\n",
       "  )\n",
       "  (dec): Sequential(\n",
       "    (0): Linear(in_features=1, out_features=2048, bias=True)\n",
       "    (1): LeakyReLU(negative_slope=0.01)\n",
       "    (2): Linear(in_features=2048, out_features=2048, bias=True)\n",
       "    (3): LeakyReLU(negative_slope=0.01)\n",
       "    (4): Linear(in_features=2048, out_features=784, bias=True)\n",
       "    (5): Unflatten(dim=1, unflattened_size=(1, 28, 28))\n",
       "  )\n",
       ")"
      ]
     },
     "execution_count": 55,
     "metadata": {},
     "output_type": "execute_result"
    }
   ],
   "source": [
    "model_ae"
   ]
  },
  {
   "cell_type": "markdown",
   "metadata": {
    "id": "IfBr4Xeh6cex"
   },
   "source": [
    "### Model Training (AE)"
   ]
  },
  {
   "cell_type": "code",
   "execution_count": 18,
   "metadata": {
    "id": "BpKgNVVB6cex",
    "outputId": "b549fa46-92b1-4fdd-8321-bf5fdef5600c",
    "scrolled": true
   },
   "outputs": [
    {
     "name": "stdout",
     "output_type": "stream",
     "text": [
      "Step 100/10000 | Loss >> 0.0532\n",
      "Step 200/10000 | Loss >> 0.0530\n",
      "Step 300/10000 | Loss >> 0.0495\n",
      "Step 400/10000 | Loss >> 0.0497\n",
      "Step 500/10000 | Loss >> 0.0516\n",
      "Step 600/10000 | Loss >> 0.0504\n",
      "Step 700/10000 | Loss >> 0.0484\n",
      "Step 800/10000 | Loss >> 0.0526\n",
      "Step 900/10000 | Loss >> 0.0506\n",
      "Step 1000/10000 | Loss >> 0.0499\n",
      "Step 1100/10000 | Loss >> 0.0470\n",
      "Step 1200/10000 | Loss >> 0.0494\n",
      "Step 1300/10000 | Loss >> 0.0497\n",
      "Step 1400/10000 | Loss >> 0.0506\n",
      "Step 1500/10000 | Loss >> 0.0479\n",
      "Step 1600/10000 | Loss >> 0.0445\n",
      "Step 1700/10000 | Loss >> 0.0493\n",
      "Step 1800/10000 | Loss >> 0.0484\n",
      "Step 1900/10000 | Loss >> 0.0495\n",
      "Step 2000/10000 | Loss >> 0.0486\n",
      "Step 2100/10000 | Loss >> 0.0476\n",
      "Step 2200/10000 | Loss >> 0.0504\n",
      "Step 2300/10000 | Loss >> 0.0445\n",
      "Step 2400/10000 | Loss >> 0.0476\n",
      "Step 2500/10000 | Loss >> 0.0460\n",
      "Step 2600/10000 | Loss >> 0.0481\n",
      "Step 2700/10000 | Loss >> 0.0461\n",
      "Step 2800/10000 | Loss >> 0.0479\n",
      "Step 2900/10000 | Loss >> 0.0470\n",
      "Step 3000/10000 | Loss >> 0.0480\n",
      "Step 3100/10000 | Loss >> 0.0462\n",
      "Step 3200/10000 | Loss >> 0.0479\n",
      "Step 3300/10000 | Loss >> 0.0489\n",
      "Step 3400/10000 | Loss >> 0.0430\n",
      "Step 3500/10000 | Loss >> 0.0470\n",
      "Step 3600/10000 | Loss >> 0.0476\n",
      "Step 3700/10000 | Loss >> 0.0476\n",
      "Step 3800/10000 | Loss >> 0.0487\n",
      "Step 3900/10000 | Loss >> 0.0493\n",
      "Step 4000/10000 | Loss >> 0.0471\n",
      "Step 4100/10000 | Loss >> 0.0457\n",
      "Step 4200/10000 | Loss >> 0.0457\n",
      "Step 4300/10000 | Loss >> 0.0424\n",
      "Step 4400/10000 | Loss >> 0.0448\n",
      "Step 4500/10000 | Loss >> 0.0459\n",
      "Step 4600/10000 | Loss >> 0.0470\n",
      "Step 4700/10000 | Loss >> 0.0437\n",
      "Step 4800/10000 | Loss >> 0.0487\n",
      "Step 4900/10000 | Loss >> 0.0447\n",
      "Step 5000/10000 | Loss >> 0.0443\n",
      "Step 5100/10000 | Loss >> 0.0471\n",
      "Step 5200/10000 | Loss >> 0.0463\n",
      "Step 5300/10000 | Loss >> 0.0483\n",
      "Step 5400/10000 | Loss >> 0.0465\n",
      "Step 5500/10000 | Loss >> 0.0464\n",
      "Step 5600/10000 | Loss >> 0.0462\n",
      "Step 5700/10000 | Loss >> 0.0462\n",
      "Step 5800/10000 | Loss >> 0.0511\n",
      "Step 5900/10000 | Loss >> 0.0433\n",
      "Step 6000/10000 | Loss >> 0.0418\n",
      "Step 6100/10000 | Loss >> 0.0495\n",
      "Step 6200/10000 | Loss >> 0.0459\n",
      "Step 6300/10000 | Loss >> 0.0465\n",
      "Step 6400/10000 | Loss >> 0.0470\n",
      "Step 6500/10000 | Loss >> 0.0466\n",
      "Step 6600/10000 | Loss >> 0.0463\n",
      "Step 6700/10000 | Loss >> 0.0443\n",
      "Step 6800/10000 | Loss >> 0.0433\n",
      "Step 6900/10000 | Loss >> 0.0436\n",
      "Step 7000/10000 | Loss >> 0.0426\n",
      "Step 7100/10000 | Loss >> 0.0460\n",
      "Step 7200/10000 | Loss >> 0.0439\n",
      "Step 7300/10000 | Loss >> 0.0489\n",
      "Step 7400/10000 | Loss >> 0.0446\n",
      "Step 7500/10000 | Loss >> 0.0459\n",
      "Step 7600/10000 | Loss >> 0.0436\n",
      "Step 7700/10000 | Loss >> 0.0469\n",
      "Step 7800/10000 | Loss >> 0.0436\n",
      "Step 7900/10000 | Loss >> 0.0463\n",
      "Step 8000/10000 | Loss >> 0.0437\n",
      "Step 8100/10000 | Loss >> 0.0465\n",
      "Step 8200/10000 | Loss >> 0.0472\n",
      "Step 8300/10000 | Loss >> 0.0478\n",
      "Step 8400/10000 | Loss >> 0.0449\n",
      "Step 8500/10000 | Loss >> 0.0467\n",
      "Step 8600/10000 | Loss >> 0.0412\n",
      "Step 8700/10000 | Loss >> 0.0422\n",
      "Step 8800/10000 | Loss >> 0.0427\n",
      "Step 8900/10000 | Loss >> 0.0405\n",
      "Step 9000/10000 | Loss >> 0.0419\n",
      "Step 9100/10000 | Loss >> 0.0443\n",
      "Step 9200/10000 | Loss >> 0.0479\n",
      "Step 9300/10000 | Loss >> 0.0418\n",
      "Step 9400/10000 | Loss >> 0.0442\n",
      "Step 9500/10000 | Loss >> 0.0456\n",
      "Step 9600/10000 | Loss >> 0.0441\n",
      "Step 9700/10000 | Loss >> 0.0492\n",
      "Step 9800/10000 | Loss >> 0.0419\n",
      "Step 9900/10000 | Loss >> 0.0479\n",
      "Step 10000/10000 | Loss >> 0.0474\n"
     ]
    }
   ],
   "source": [
    "set_seed(13)\n",
    "\n",
    "device = 'cuda' if torch.cuda.is_available() else 'cpu'\n",
    "model_ae.to(device)\n",
    "loss_fn = nn.MSELoss()\n",
    "optim = torch.optim.Adam(model_ae.parameters(), 0.0003)\n",
    "\n",
    "## This is the number of iteration\n",
    "num_epochs = 5000\n",
    "\n",
    "train_losses = []\n",
    "\n",
    "for epoch in range(1, num_epochs+1):\n",
    "    batch_losses = []\n",
    "    batch_size = 100\n",
    "    # Randomly sample a batch of sample\n",
    "    train_selected_idx = np.random.choice(len(x_train), batch_size, replace=False)\n",
    "    \n",
    "    #for i, x in enumerate(x_train):\n",
    "    model_ae.train()\n",
    "    x = x_train[train_selected_idx]\n",
    "    x = x[:,None].to(device)\n",
    "\n",
    "    # Step 1 - Computes our model's predicted output - forward pass\n",
    "    yhat,_ = model_ae(x)\n",
    "    # Step 2 - Computes the loss\n",
    "    loss = loss_fn(yhat, x)\n",
    "    # Step 3 - Computes gradients\n",
    "    loss.backward()\n",
    "    # Step 4 - Updates parameters using gradients and the learning rate\n",
    "    optim.step()\n",
    "    optim.zero_grad()\n",
    "\n",
    "    batch_losses.append(np.array([loss.data.item()]))\n",
    "\n",
    "    # Average over batches\n",
    "    train_losses.append(np.array(batch_losses).mean(axis=0))\n",
    "\n",
    "    if (epoch%100==0):\n",
    "        print(f'Step {epoch:03d}/{num_epochs} | Loss >> {train_losses[-1][0]:.4f}')"
   ]
  },
  {
   "cell_type": "code",
   "execution_count": 78,
   "metadata": {},
   "outputs": [],
   "source": [
    "torch.save(model_ae.state_dict(), 'VAE_1d_latent.pth')\n"
   ]
  },
  {
   "cell_type": "code",
   "execution_count": 56,
   "metadata": {},
   "outputs": [
    {
     "data": {
      "text/plain": [
       "<All keys matched successfully>"
      ]
     },
     "execution_count": 56,
     "metadata": {},
     "output_type": "execute_result"
    }
   ],
   "source": [
    "### You can also load model\n",
    "model_ae.load_state_dict(torch.load('VAE_1d_latent.pth'))"
   ]
  },
  {
   "cell_type": "markdown",
   "metadata": {
    "id": "dCEfqnIP6cey"
   },
   "source": [
    "### Step3 Example of Reconstruction"
   ]
  },
  {
   "cell_type": "code",
   "execution_count": 57,
   "metadata": {
    "id": "UGA_Uea96cey",
    "outputId": "74ab6ade-56ad-4f57-a17e-73d2c58f7a60"
   },
   "outputs": [],
   "source": [
    "# Randomly sample a batch of sample\n",
    "batch_size = 10\n",
    "test_selected_idx = np.random.choice(len(x_test), batch_size, replace=False)  \n",
    "x_input  = x_test[test_selected_idx]"
   ]
  },
  {
   "cell_type": "code",
   "execution_count": 58,
   "metadata": {},
   "outputs": [
    {
     "name": "stdout",
     "output_type": "stream",
     "text": [
      "Here we show the original input (Top) and its reconstruction (Bottom):\n"
     ]
    },
    {
     "name": "stderr",
     "output_type": "stream",
     "text": [
      "/var/folders/lz/vgx6vwgj5lx9lrh0326zx7xm0000gn/T/ipykernel_63937/3024717749.py:45: UserWarning: The figure layout has changed to tight\n",
      "  plt.tight_layout()\n"
     ]
    },
    {
     "data": {
      "image/png": "[encoded data removed]",
      "text/plain": [
       "<Figure size 1500x200 with 10 Axes>"
      ]
     },
     "metadata": {},
     "output_type": "display_data"
    },
    {
     "data": {
      "image/png": "[encoded data removed]",
      "text/plain": [
       "<Figure size 1500x200 with 10 Axes>"
      ]
     },
     "metadata": {},
     "output_type": "display_data"
    }
   ],
   "source": [
    "### Run the VAE to get the reconstruction of x\n",
    "X_hat, latent_z = model_ae(x_input[:,None])\n",
    "print(f'Here we show the original input (Top) and its reconstruction (Bottom):')        \n",
    "plot_row([x_input.squeeze(1), X_hat.detach().numpy().squeeze(1)])"
   ]
  },
  {
   "cell_type": "markdown",
   "metadata": {
    "id": "dCEfqnIP6cey"
   },
   "source": [
    "#### Things you can try to get better reconstruction result:\n",
    "- You can try to make the latent space higher\n",
    "- You can try to make both encoder and decoder deeper\n",
    "- try different kinds of loss function"
   ]
  },
  {
   "cell_type": "code",
   "execution_count": 35,
   "metadata": {},
   "outputs": [
    {
     "name": "stdout",
     "output_type": "stream",
     "text": [
      "latent shape is torch.Size([10, 1]) the value are: tensor([[ 1.3605],\n",
      "        [-0.2032],\n",
      "        [-0.1652],\n",
      "        [-0.5545],\n",
      "        [ 0.0570],\n",
      "        [-2.7100],\n",
      "        [-0.0441],\n",
      "        [ 0.5917],\n",
      "        [ 1.3224],\n",
      "        [-0.1259]], grad_fn=<AddmmBackward0>)\n"
     ]
    }
   ],
   "source": [
    "### What we learn from the latent space?\n",
    "print(f'latent shape is {latent_z.shape} the value are: {latent_z}')"
   ]
  },
  {
   "cell_type": "markdown",
   "metadata": {
    "id": "nUMehCrU6cey"
   },
   "source": [
    "### Step 4 Model the Latent Distribution"
   ]
  },
  {
   "cell_type": "code",
   "execution_count": 59,
   "metadata": {
    "scrolled": true
   },
   "outputs": [
    {
     "name": "stdout",
     "output_type": "stream",
     "text": [
      "Extracting batch: 0/600\n",
      "Extracting batch: 100/600\n",
      "Extracting batch: 200/600\n",
      "Extracting batch: 300/600\n",
      "Extracting batch: 400/600\n",
      "Extracting batch: 500/600\n",
      "Done with the extracting!\n"
     ]
    }
   ],
   "source": [
    "### Run the whole dataset to get the latents, and save them in a list\n",
    "latents_list = []\n",
    "batch_size = 100\n",
    "steps = len(x_train)//batch_size\n",
    "for i in range(steps):\n",
    "    if i%100==0:\n",
    "        print(f'Extracting batch: {i}/{steps}')\n",
    "    ### take the data from each step\n",
    "    x_input = x_train[i*batch_size:i*batch_size+batch_size]\n",
    "    ## fed them into encoder to get the latents\n",
    "    _, z_latent = model_ae(x_input[:,None])\n",
    "    latents_list.append(z_latent)\n",
    "print('Done with the extracting!')\n",
    "## concatenation of the list to a tensor\n",
    "latents_list = torch.cat(latents_list)"
   ]
  },
  {
   "cell_type": "code",
   "execution_count": 69,
   "metadata": {
    "id": "JQscktlO6cey",
    "outputId": "f78a0d11-a256-4de8-b932-5aa52bcd186e"
   },
   "outputs": [
    {
     "name": "stdout",
     "output_type": "stream",
     "text": [
      "we have 60000 latents in the list\n",
      "the mean and viarance : -5.295138835906982 5.433820724487305, -0.07099571079015732, 1.0501832962036133\n",
      "Mean -0.07099571079015732, std: 1.0501832962036133\n"
     ]
    }
   ],
   "source": [
    "print(f'we have {len(latents_list)} latents in the list')\n",
    "## compute the mean and variance of the latent \n",
    "print(f'the mean and viarance : {latents_list.min()} {latents_list.max()}, {latents_list.mean()}, {latents_list.std()}')\n",
    "mean_std = torch.std_mean(latents_list)\n",
    "print(f'Mean {mean_std[1]}, std: {mean_std[0]}')"
   ]
  },
  {
   "cell_type": "markdown",
   "metadata": {
    "id": "kyW2YqNY6cey"
   },
   "source": [
    "### Step 5: Build your Generative Model"
   ]
  },
  {
   "cell_type": "code",
   "execution_count": 76,
   "metadata": {
    "id": "9Hcl0Pll6cez",
    "outputId": "ba359ac7-98e7-41b9-e5df-e0c4ae041171"
   },
   "outputs": [
    {
     "name": "stdout",
     "output_type": "stream",
     "text": [
      "torch.Size([20, 1])\n"
     ]
    },
    {
     "name": "stderr",
     "output_type": "stream",
     "text": [
      "/var/folders/lz/vgx6vwgj5lx9lrh0326zx7xm0000gn/T/ipykernel_63937/3024717749.py:45: UserWarning: The figure layout has changed to tight\n",
      "  plt.tight_layout()\n"
     ]
    },
    {
     "data": {
      "image/png": "[encoded data removed]",
      "text/plain": [
       "<Figure size 1500x200 with 10 Axes>"
      ]
     },
     "metadata": {},
     "output_type": "display_data"
    },
    {
     "data": {
      "image/png": "[encoded data removed]",
      "text/plain": [
       "<Figure size 1500x200 with 10 Axes>"
      ]
     },
     "metadata": {},
     "output_type": "display_data"
    }
   ],
   "source": [
    "### build your latent distribution\n",
    "batch_size = 20\n",
    "\n",
    "sampled_z = torch.normal(-0.0709, 1.05018, size=(batch_size,1))\n",
    "print(sampled_z.shape)\n",
    "### Fed into the decoder:\n",
    "hat_x = model_ae.dec(sampled_z)\n",
    "plot_row([hat_x[:10].detach().numpy().squeeze(1), hat_x[10:].detach().numpy().squeeze(1)])"
   ]
  },
  {
   "cell_type": "markdown",
   "metadata": {
    "id": "wEYdkB_B6ce0"
   },
   "source": [
    "### Directly model the distribution: Variational AutoEncoders\n",
    "I will leave this for future:\n",
    "- Reparametrization Trick\n",
    "- Kullback-Leibler Divergence"
   ]
  },
  {
   "cell_type": "markdown",
   "metadata": {
    "id": "IGt70yv96ce0"
   },
   "source": [
    "## Variational AutoEncoder (VAE)"
   ]
  },
  {
   "cell_type": "markdown",
   "metadata": {
    "id": "w6CZNRiG6ce0"
   },
   "source": [
    "![vae](https://github.com/dvgodoy/AccompanyingNotebooks/blob/main/images/autoencoders/vae_diagram.png?raw=1)"
   ]
  },
  {
   "cell_type": "markdown",
   "metadata": {
    "id": "FyUU8NCk6ce0"
   },
   "source": [
    "```EncoderVar(\n",
    "  (base_model): Sequential(\n",
    "    (0): Flatten(start_dim=1, end_dim=-1)\n",
    "    (1): Linear(in_features=784, out_features=2048, bias=True)\n",
    "    (2): LeakyReLU(negative_slope=0.01)\n",
    "    (3): Linear(in_features=2048, out_features=2048, bias=True)\n",
    "    (4): LeakyReLU(negative_slope=0.01)\n",
    "  )\n",
    "  (lin_mu): Linear(in_features=2048, out_features=1, bias=True)\n",
    "  (lin_var): Linear(in_features=2048, out_features=1, bias=True)\n",
    ")```"
   ]
  },
  {
   "cell_type": "code",
   "execution_count": null,
   "metadata": {
    "id": "pmjPdTbH6cfC"
   },
   "outputs": [],
   "source": []
  }
 ],
 "metadata": {
  "colab": {
   "provenance": []
  },
  "kernelspec": {
   "display_name": "Python 3 (ipykernel)",
   "language": "python",
   "name": "python3"
  },
  "language_info": {
   "codemirror_mode": {
    "name": "ipython",
    "version": 3
   },
   "file_extension": ".py",
   "mimetype": "text/x-python",
   "name": "python",
   "nbconvert_exporter": "python",
   "pygments_lexer": "ipython3",
   "version": "3.11.6"
  }
 },
 "nbformat": 4,
 "nbformat_minor": 4
}
